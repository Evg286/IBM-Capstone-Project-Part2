{
 "cells": [
  {
   "cell_type": "markdown",
   "metadata": {},
   "source": [
    "## Opening a Sushi Restaurant in Beer Sheva, Israel\n",
    "\n",
    "#### Introduction\n",
    "Mrs. Name wishes to expand her Sushi franchise into Beer Sheva, Israel. The purpose of this work to help her find suitable locations in Beer Sheva for Mrs. Name's restaurant. Unfortunately, Mrs. Name has some strict specifications that we will have to consider upon searching for a suitable venue:\n",
    "\n",
    "The propety must be suitable for a restaurant business.\n",
    "The property must be 50-150 sqm in size.\n",
    "The property must be located on the first floor.\n",
    "The property's monthly rent fees must not exceed 20,000 NIS.\n",
    "The property must be located as far from its competitors as possible.\n",
    "\n",
    "#### Data Overview\n",
    "The final product will be a list of suitable locations. To produce this list, we will use the Foursquare API and available data from the Beer Sheva Municipality, Google Maps, The Israel Bureau of Statistics, local real estate websites.\n",
    "\n",
    "#### Methodology\n",
    "Stage 1: Collecting the data and building the dataframes.\n",
    "\n",
    "Stage 2: Mapping the dataframes.\n",
    "\n",
    "Stage 3: Ranking properties based on their proximity to competitors.\n",
    "\n",
    "#### Conclusions and Report\n",
    "As we can see by the spread of venues and competitors, the afrementioned cluster of venues is located in proximity to multiple competitors.\n",
    "\n",
    "In contrast, Venue4 is isolated in the south-west of the city, with no other competitors around, which qualifies it as the most suitable location for Mrs. Name's purposes."
   ]
  },
  {
   "cell_type": "code",
   "execution_count": null,
   "metadata": {},
   "outputs": [],
   "source": []
  }
 ],
 "metadata": {
  "kernelspec": {
   "display_name": "Python 3",
   "language": "python",
   "name": "python3"
  },
  "language_info": {
   "codemirror_mode": {
    "name": "ipython",
    "version": 3
   },
   "file_extension": ".py",
   "mimetype": "text/x-python",
   "name": "python",
   "nbconvert_exporter": "python",
   "pygments_lexer": "ipython3",
   "version": "3.8.5"
  }
 },
 "nbformat": 4,
 "nbformat_minor": 4
}
