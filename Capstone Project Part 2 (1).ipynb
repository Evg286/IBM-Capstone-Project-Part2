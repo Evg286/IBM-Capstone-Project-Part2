{
 "cells": [
  {
   "cell_type": "markdown",
   "metadata": {},
   "source": [
    "## Opening a Sushi Restaurant in Beer Sheva, Israel"
   ]
  },
  {
   "cell_type": "markdown",
   "metadata": {},
   "source": [
    "#### Introduction\n",
    "\n",
    "Mrs. Name wishes to expand her Sushi franchise into Beer Sheva, Israel. The purpose of this work to help her find suitable locations in Beer Sheva for Mrs. Name's restaurant. Unfortunately, Mrs. Name has some strict specifications that we will have to consider upon searching for a suitable venue:\n",
    "1. The propety must be suitable for a restaurant business.\n",
    "2. The property must be 50-150 sqm in size.\n",
    "3. The property must be located on the first floor.\n",
    "4. The property's monthly rent fees must not exceed 20,000 NIS.\n",
    "5. The property must be located as far from its competitors as possible."
   ]
  },
  {
   "cell_type": "markdown",
   "metadata": {},
   "source": [
    "#### Data Overview\n",
    "\n",
    "The final product will be a list of suitable locations. To produce this list, we will use the Foursquare API and available data from the Beer Sheva Municipality, Google Maps, The Israel Bureau of Statistics, local real estate websites. "
   ]
  },
  {
   "cell_type": "markdown",
   "metadata": {},
   "source": [
    "#### Methodology\n",
    "\n",
    "Stage 1:\n",
    "Collecting the data and building the dataframes.\n",
    "\n",
    "Stage 2:\n",
    "Mapping the dataframes.\n",
    "\n",
    "Stage 3:\n",
    "Ranking properties based on their proximity to competitors."
   ]
  },
  {
   "cell_type": "markdown",
   "metadata": {},
   "source": [
    "#### Stage 1 - Collecting Data and Building Datasets"
   ]
  },
  {
   "cell_type": "code",
   "execution_count": 1076,
   "metadata": {},
   "outputs": [
    {
     "name": "stdout",
     "output_type": "stream",
     "text": [
      "Libraries imported.\n"
     ]
    }
   ],
   "source": [
    "import numpy as np # library to handle data in a vectorized manner\n",
    "\n",
    "import pandas as pd # library for data analsysis\n",
    "pd.set_option('display.max_columns', None)\n",
    "pd.set_option('display.max_rows', None)\n",
    "\n",
    "print('Libraries imported.')"
   ]
  },
  {
   "cell_type": "markdown",
   "metadata": {},
   "source": [
    "An official open data website of the Beer Sheva municipality, offers different statistical data on the city has databases complete with neighborhoods, street names, house numbers and coordinates. We will combine them into a single dataset.\n",
    "\n",
    "https://www.beer-sheva.muni.il/OpenData/Lists/Packages/CustomDispForm.aspx?ID=171\n",
    "\n",
    "\n",
    "https://www.beer-sheva.muni.il/OpenData/Lists/Packages/CustomDispForm.aspx?ID=152\n"
   ]
  },
  {
   "cell_type": "markdown",
   "metadata": {},
   "source": [
    "Let's download the datasets from the links above, and load them onto pandas dataframes."
   ]
  },
  {
   "cell_type": "code",
   "execution_count": 1077,
   "metadata": {},
   "outputs": [
    {
     "data": {
      "text/html": [
       "<div>\n",
       "<style scoped>\n",
       "    .dataframe tbody tr th:only-of-type {\n",
       "        vertical-align: middle;\n",
       "    }\n",
       "\n",
       "    .dataframe tbody tr th {\n",
       "        vertical-align: top;\n",
       "    }\n",
       "\n",
       "    .dataframe thead th {\n",
       "        text-align: right;\n",
       "    }\n",
       "</style>\n",
       "<table border=\"1\" class=\"dataframe\">\n",
       "  <thead>\n",
       "    <tr style=\"text-align: right;\">\n",
       "      <th></th>\n",
       "      <th>StreetCode</th>\n",
       "      <th>HouseNuber</th>\n",
       "      <th>cityCode</th>\n",
       "      <th>streetName</th>\n",
       "      <th>letter</th>\n",
       "      <th>lat</th>\n",
       "      <th>lon</th>\n",
       "    </tr>\n",
       "  </thead>\n",
       "  <tbody>\n",
       "    <tr>\n",
       "      <th>0</th>\n",
       "      <td>102</td>\n",
       "      <td>18.0</td>\n",
       "      <td>9000</td>\n",
       "      <td>דרך חברון</td>\n",
       "      <td>NaN</td>\n",
       "      <td>31.238322</td>\n",
       "      <td>34.795871</td>\n",
       "    </tr>\n",
       "    <tr>\n",
       "      <th>1</th>\n",
       "      <td>833</td>\n",
       "      <td>20.0</td>\n",
       "      <td>9000</td>\n",
       "      <td>המלאכה</td>\n",
       "      <td>NaN</td>\n",
       "      <td>31.237878</td>\n",
       "      <td>34.796022</td>\n",
       "    </tr>\n",
       "    <tr>\n",
       "      <th>2</th>\n",
       "      <td>102</td>\n",
       "      <td>155.0</td>\n",
       "      <td>9000</td>\n",
       "      <td>דרך חברון</td>\n",
       "      <td>NaN</td>\n",
       "      <td>31.253655</td>\n",
       "      <td>34.821186</td>\n",
       "    </tr>\n",
       "    <tr>\n",
       "      <th>3</th>\n",
       "      <td>102</td>\n",
       "      <td>159.0</td>\n",
       "      <td>9000</td>\n",
       "      <td>דרך חברון</td>\n",
       "      <td>NaN</td>\n",
       "      <td>31.254785</td>\n",
       "      <td>34.821342</td>\n",
       "    </tr>\n",
       "    <tr>\n",
       "      <th>4</th>\n",
       "      <td>531</td>\n",
       "      <td>5.0</td>\n",
       "      <td>9000</td>\n",
       "      <td>האורגים</td>\n",
       "      <td>NaN</td>\n",
       "      <td>31.254845</td>\n",
       "      <td>34.817054</td>\n",
       "    </tr>\n",
       "  </tbody>\n",
       "</table>\n",
       "</div>"
      ],
      "text/plain": [
       "   StreetCode  HouseNuber  cityCode streetName letter        lat        lon\n",
       "0         102        18.0      9000  דרך חברון    NaN  31.238322  34.795871\n",
       "1         833        20.0      9000     המלאכה    NaN  31.237878  34.796022\n",
       "2         102       155.0      9000  דרך חברון    NaN  31.253655  34.821186\n",
       "3         102       159.0      9000  דרך חברון    NaN  31.254785  34.821342\n",
       "4         531         5.0      9000    האורגים    NaN  31.254845  34.817054"
      ]
     },
     "execution_count": 1077,
     "metadata": {},
     "output_type": "execute_result"
    }
   ],
   "source": [
    "df_Addresses = pd.read_csv(r'C:\\Users\\evg28\\Downloads\\addresses.csv')\n",
    "df_Addresses.head()"
   ]
  },
  {
   "cell_type": "markdown",
   "metadata": {},
   "source": [
    "Now, let's clean it up."
   ]
  },
  {
   "cell_type": "code",
   "execution_count": 1078,
   "metadata": {},
   "outputs": [
    {
     "data": {
      "text/html": [
       "<div>\n",
       "<style scoped>\n",
       "    .dataframe tbody tr th:only-of-type {\n",
       "        vertical-align: middle;\n",
       "    }\n",
       "\n",
       "    .dataframe tbody tr th {\n",
       "        vertical-align: top;\n",
       "    }\n",
       "\n",
       "    .dataframe thead th {\n",
       "        text-align: right;\n",
       "    }\n",
       "</style>\n",
       "<table border=\"1\" class=\"dataframe\">\n",
       "  <thead>\n",
       "    <tr style=\"text-align: right;\">\n",
       "      <th></th>\n",
       "      <th>House Number</th>\n",
       "      <th>Street Name</th>\n",
       "      <th>Full Address</th>\n",
       "      <th>Latitude</th>\n",
       "      <th>Longitude</th>\n",
       "    </tr>\n",
       "  </thead>\n",
       "  <tbody>\n",
       "    <tr>\n",
       "      <th>0</th>\n",
       "      <td>18.0</td>\n",
       "      <td>דרך חברון</td>\n",
       "      <td>דרך חברון 18.0</td>\n",
       "      <td>31.238322</td>\n",
       "      <td>34.795871</td>\n",
       "    </tr>\n",
       "    <tr>\n",
       "      <th>1</th>\n",
       "      <td>20.0</td>\n",
       "      <td>המלאכה</td>\n",
       "      <td>המלאכה 20.0</td>\n",
       "      <td>31.237878</td>\n",
       "      <td>34.796022</td>\n",
       "    </tr>\n",
       "    <tr>\n",
       "      <th>2</th>\n",
       "      <td>155.0</td>\n",
       "      <td>דרך חברון</td>\n",
       "      <td>דרך חברון 155.0</td>\n",
       "      <td>31.253655</td>\n",
       "      <td>34.821186</td>\n",
       "    </tr>\n",
       "    <tr>\n",
       "      <th>3</th>\n",
       "      <td>159.0</td>\n",
       "      <td>דרך חברון</td>\n",
       "      <td>דרך חברון 159.0</td>\n",
       "      <td>31.254785</td>\n",
       "      <td>34.821342</td>\n",
       "    </tr>\n",
       "    <tr>\n",
       "      <th>4</th>\n",
       "      <td>5.0</td>\n",
       "      <td>האורגים</td>\n",
       "      <td>האורגים 5.0</td>\n",
       "      <td>31.254845</td>\n",
       "      <td>34.817054</td>\n",
       "    </tr>\n",
       "  </tbody>\n",
       "</table>\n",
       "</div>"
      ],
      "text/plain": [
       "   House Number Street Name     Full Address   Latitude  Longitude\n",
       "0          18.0   דרך חברון   דרך חברון 18.0  31.238322  34.795871\n",
       "1          20.0      המלאכה      המלאכה 20.0  31.237878  34.796022\n",
       "2         155.0   דרך חברון  דרך חברון 155.0  31.253655  34.821186\n",
       "3         159.0   דרך חברון  דרך חברון 159.0  31.254785  34.821342\n",
       "4           5.0     האורגים      האורגים 5.0  31.254845  34.817054"
      ]
     },
     "execution_count": 1078,
     "metadata": {},
     "output_type": "execute_result"
    }
   ],
   "source": [
    "#Deleting unnecessary columns\n",
    "del df_Addresses['letter'], df_Addresses['cityCode'], df_Addresses['StreetCode']\n",
    "#Editing column names\n",
    "df_Addresses = df_Addresses.rename(columns={'HouseNuber':'House Number', 'streetName': 'Street Name', 'lat':'Latitude','lon':'Longitude'})\n",
    "\n",
    "#Adding a column with the full address\n",
    "df_Addresses.insert(2, 'Full Address', '')\n",
    "#Combining street name and house number values into the new column\n",
    "df_Addresses['Full Address'] = df_Addresses['Street Name'] + ' ' + df_Addresses['House Number'].astype(str)\n",
    "\n",
    "df_Addresses.head()"
   ]
  },
  {
   "cell_type": "code",
   "execution_count": 1079,
   "metadata": {},
   "outputs": [
    {
     "data": {
      "text/html": [
       "<div>\n",
       "<style scoped>\n",
       "    .dataframe tbody tr th:only-of-type {\n",
       "        vertical-align: middle;\n",
       "    }\n",
       "\n",
       "    .dataframe tbody tr th {\n",
       "        vertical-align: top;\n",
       "    }\n",
       "\n",
       "    .dataframe thead th {\n",
       "        text-align: right;\n",
       "    }\n",
       "</style>\n",
       "<table border=\"1\" class=\"dataframe\">\n",
       "  <thead>\n",
       "    <tr style=\"text-align: right;\">\n",
       "      <th></th>\n",
       "      <th>שם ראשי</th>\n",
       "      <th>תואר</th>\n",
       "      <th>שם מישני</th>\n",
       "      <th>קבוצה</th>\n",
       "      <th>קבוצה נוספת</th>\n",
       "      <th>סוג</th>\n",
       "      <th>קוד</th>\n",
       "      <th>שכונה</th>\n",
       "    </tr>\n",
       "  </thead>\n",
       "  <tbody>\n",
       "    <tr>\n",
       "      <th>0</th>\n",
       "      <td>אוסישקין</td>\n",
       "      <td>NaN</td>\n",
       "      <td>מנחם (מנדל)</td>\n",
       "      <td>ד. הסטוריה יהודית</td>\n",
       "      <td>NaN</td>\n",
       "      <td>רחוב</td>\n",
       "      <td>801.0</td>\n",
       "      <td>א</td>\n",
       "    </tr>\n",
       "    <tr>\n",
       "      <th>1</th>\n",
       "      <td>אוסקר</td>\n",
       "      <td>פרופ'</td>\n",
       "      <td>לוי</td>\n",
       "      <td>ב. תושבי העיר</td>\n",
       "      <td>יא. תרבות ומדע</td>\n",
       "      <td>כיכר</td>\n",
       "      <td>NaN</td>\n",
       "      <td>א</td>\n",
       "    </tr>\n",
       "    <tr>\n",
       "      <th>2</th>\n",
       "      <td>אחד העם</td>\n",
       "      <td>NaN</td>\n",
       "      <td>NaN</td>\n",
       "      <td>ד. הסטוריה יהודית</td>\n",
       "      <td>יא. תרבות ומדע</td>\n",
       "      <td>רחוב</td>\n",
       "      <td>802.0</td>\n",
       "      <td>א</td>\n",
       "    </tr>\n",
       "    <tr>\n",
       "      <th>3</th>\n",
       "      <td>אלי כהן</td>\n",
       "      <td>NaN</td>\n",
       "      <td>NaN</td>\n",
       "      <td>ט. לוחמי ישראל</td>\n",
       "      <td>NaN</td>\n",
       "      <td>צומת</td>\n",
       "      <td>613.0</td>\n",
       "      <td>א</td>\n",
       "    </tr>\n",
       "    <tr>\n",
       "      <th>4</th>\n",
       "      <td>אסלן</td>\n",
       "      <td>NaN</td>\n",
       "      <td>בינימין</td>\n",
       "      <td>ב. תושבי העיר</td>\n",
       "      <td>NaN</td>\n",
       "      <td>כיכר</td>\n",
       "      <td>NaN</td>\n",
       "      <td>א</td>\n",
       "    </tr>\n",
       "  </tbody>\n",
       "</table>\n",
       "</div>"
      ],
      "text/plain": [
       "    שם ראשי   תואר     שם מישני              קבוצה     קבוצה נוספת   סוג  \\\n",
       "0  אוסישקין    NaN  מנחם (מנדל)  ד. הסטוריה יהודית             NaN  רחוב   \n",
       "1     אוסקר  פרופ'          לוי      ב. תושבי העיר  יא. תרבות ומדע  כיכר   \n",
       "2   אחד העם    NaN          NaN  ד. הסטוריה יהודית  יא. תרבות ומדע  רחוב   \n",
       "3   אלי כהן    NaN          NaN     ט. לוחמי ישראל             NaN  צומת   \n",
       "4      אסלן    NaN      בינימין      ב. תושבי העיר             NaN  כיכר   \n",
       "\n",
       "     קוד שכונה  \n",
       "0  801.0     א  \n",
       "1    NaN     א  \n",
       "2  802.0     א  \n",
       "3  613.0     א  \n",
       "4    NaN     א  "
      ]
     },
     "execution_count": 1079,
     "metadata": {},
     "output_type": "execute_result"
    }
   ],
   "source": [
    "df_Streetnames = pd.read_csv(r'C:\\Users\\evg28\\Downloads\\street-names.csv')\n",
    "df_Streetnames.head()"
   ]
  },
  {
   "cell_type": "markdown",
   "metadata": {},
   "source": [
    "Let's clean the second dataset."
   ]
  },
  {
   "cell_type": "code",
   "execution_count": 1080,
   "metadata": {},
   "outputs": [
    {
     "data": {
      "text/html": [
       "<div>\n",
       "<style scoped>\n",
       "    .dataframe tbody tr th:only-of-type {\n",
       "        vertical-align: middle;\n",
       "    }\n",
       "\n",
       "    .dataframe tbody tr th {\n",
       "        vertical-align: top;\n",
       "    }\n",
       "\n",
       "    .dataframe thead th {\n",
       "        text-align: right;\n",
       "    }\n",
       "</style>\n",
       "<table border=\"1\" class=\"dataframe\">\n",
       "  <thead>\n",
       "    <tr style=\"text-align: right;\">\n",
       "      <th></th>\n",
       "      <th>Street Name</th>\n",
       "      <th>Neighborhood</th>\n",
       "    </tr>\n",
       "  </thead>\n",
       "  <tbody>\n",
       "    <tr>\n",
       "      <th>0</th>\n",
       "      <td>אוסישקין</td>\n",
       "      <td>א</td>\n",
       "    </tr>\n",
       "    <tr>\n",
       "      <th>1</th>\n",
       "      <td>אוסקר</td>\n",
       "      <td>א</td>\n",
       "    </tr>\n",
       "    <tr>\n",
       "      <th>2</th>\n",
       "      <td>אחד העם</td>\n",
       "      <td>א</td>\n",
       "    </tr>\n",
       "    <tr>\n",
       "      <th>3</th>\n",
       "      <td>אלי כהן</td>\n",
       "      <td>א</td>\n",
       "    </tr>\n",
       "    <tr>\n",
       "      <th>4</th>\n",
       "      <td>אסלן</td>\n",
       "      <td>א</td>\n",
       "    </tr>\n",
       "  </tbody>\n",
       "</table>\n",
       "</div>"
      ],
      "text/plain": [
       "  Street Name Neighborhood\n",
       "0    אוסישקין            א\n",
       "1       אוסקר            א\n",
       "2     אחד העם            א\n",
       "3     אלי כהן            א\n",
       "4        אסלן            א"
      ]
     },
     "execution_count": 1080,
     "metadata": {},
     "output_type": "execute_result"
    }
   ],
   "source": [
    "#Deleting unnecessary columns\n",
    "del df_Streetnames['תואר'], df_Streetnames['קבוצה'], df_Streetnames['קבוצה נוספת'], df_Streetnames['סוג'], df_Streetnames['קוד'], df_Streetnames['שם מישני']\n",
    "#Editing column names\n",
    "df_Streetnames = df_Streetnames.rename(columns={'שכונה':'Neighborhood', 'שם ראשי': 'Street Name'})\n",
    "df_Streetnames.head()"
   ]
  },
  {
   "cell_type": "markdown",
   "metadata": {},
   "source": [
    "A quick review of the data reveals a substantial discrepency in the names of streets in the datasets. This will require a standartization if the values are to be merged into a single dataset. \n",
    "\n",
    "Luckily, while Beer Sheva has over a thousand street names, our relevant datasets (available venues for rent and competitors) will consist of a mere dozen rows at most, so we may want to avoid correcting hundreds of names, and rather standardize only the relevant ones."
   ]
  },
  {
   "cell_type": "markdown",
   "metadata": {},
   "source": [
    "Now let's find available venues for rent and load them onto a dataframe. \n",
    "\n",
    "For this purpose, we can check popular Israeli real estate billboards, starting with Yad2 (the most popular).\n",
    "\n",
    "The link below leads to the results of the query entered on Yad2 with the parameters required by Mrs. Name:\n",
    "https://www.yad2.co.il/realestate/commercial?area=22&dealType=1&property=13,20&price=-1-20000&squaremeter=100-150\n",
    "\n",
    "Let's try to scrape it to collect the necessary data."
   ]
  },
  {
   "cell_type": "code",
   "execution_count": 1081,
   "metadata": {},
   "outputs": [],
   "source": [
    "#Importing libraries\n",
    "import requests\n",
    "from urllib.request import urlopen\n",
    "from bs4 import BeautifulSoup"
   ]
  },
  {
   "cell_type": "code",
   "execution_count": 1082,
   "metadata": {},
   "outputs": [
    {
     "name": "stdout",
     "output_type": "stream",
     "text": [
      "[<h1 class=\"title\">?Are you for real</h1>]\n",
      "[<h2 class=\"sub-title\">אנו מניחים שגולשים כאן בני אנוש<br/>אבל רק כדי לוודא, אתם יודעים כבר מה לעשות...</h2>]\n",
      "[<img alt=\"לוגו יד2\" class=\"logo\" src=\"https://assets.yad2.co.il/yad2site/y2assets/images/header/yad2Logo.png\"/>, <img alt=\"לוגו יד2\" class=\"logo-mobile\" src=\"https://assets.yad2.co.il/yad2site/y2assets/images/header/Yad2_logo_white2.svg\"/>, <img alt=\"\" class=\"robot-captcha\" src=\"https://assets.yad2.co.il/y2_captcha_error_page/robot_checkup.png\"/>]\n"
     ]
    }
   ],
   "source": [
    "#Scraping the webpage\n",
    "url_rent = 'https://www.yad2.co.il/realestate/commercial?area=22&dealType=1&property=20,13&price=5000--1'\n",
    "page_rent = requests.get(url_rent)\n",
    "soup = BeautifulSoup(page_rent.text, 'html.parser')\n",
    "print(soup.find_all('h1'))\n",
    "print(soup.find_all('h2'))\n",
    "print(soup.find_all('img'))"
   ]
  },
  {
   "cell_type": "markdown",
   "metadata": {},
   "source": [
    "Apparently (and as provided in the EULA: https://www.yad2.co.il/eula), Yad2 prohibits scraping their webpages. However, our query's results page returned only a dozen of possible locations, so they may still be copied manually and used to create a dataframe. \n",
    "\n",
    "Moreover, after examining each location, we might find some of them unsuitable, while others might lack critical data, such as an address, as is often the case with ads that are posted by realters, which might shorten our dataset even more.\n",
    "\n",
    "Unfortunately, Yad2 lacks \"restaurants\" in its property types, and has yielded only a few suitable venues. If so, let us expand our search to other sources to fill our dataframe.   \n",
    "\n",
    "Another popular Israeli billboard is called \"Homeless\". Unlike Yad2, it does include \"restaurants/coffee shops\" as part of its property types. The link below is the results page of our query on Homeless, which has yielded one result:\n",
    "\n",
    "https://www.homeless.co.il/iski/city=%d7%91%d7%90%d7%a8%20%d7%a9%d7%91%d7%a2$$inumber3=14,8$$inumber4=5$$flong3_1=1000000\n",
    "\n",
    "A third popular billboard has yilded no results at all:\n",
    "\n",
    "https://nadlan.ynet.co.il/search/commercial-for-rent/%D7%91%D7%90%D7%A8%20%D7%A9%D7%91%D7%A2,%20%D7%99%D7%A9%D7%A8%D7%90%D7%9C?pts=1181&maxp=20000"
   ]
  },
  {
   "cell_type": "code",
   "execution_count": 1083,
   "metadata": {},
   "outputs": [
    {
     "data": {
      "text/html": [
       "<div>\n",
       "<style scoped>\n",
       "    .dataframe tbody tr th:only-of-type {\n",
       "        vertical-align: middle;\n",
       "    }\n",
       "\n",
       "    .dataframe tbody tr th {\n",
       "        vertical-align: top;\n",
       "    }\n",
       "\n",
       "    .dataframe thead th {\n",
       "        text-align: right;\n",
       "    }\n",
       "</style>\n",
       "<table border=\"1\" class=\"dataframe\">\n",
       "  <thead>\n",
       "    <tr style=\"text-align: right;\">\n",
       "      <th></th>\n",
       "      <th>Available Properties</th>\n",
       "      <th>Full Address</th>\n",
       "      <th>Cost</th>\n",
       "      <th>Size</th>\n",
       "    </tr>\n",
       "  </thead>\n",
       "  <tbody>\n",
       "    <tr>\n",
       "      <th>0</th>\n",
       "      <td>Venue1</td>\n",
       "      <td>סוקולוב 43.0</td>\n",
       "      <td>NaN</td>\n",
       "      <td>120</td>\n",
       "    </tr>\n",
       "    <tr>\n",
       "      <th>1</th>\n",
       "      <td>Venue2</td>\n",
       "      <td>התקוה 10.0</td>\n",
       "      <td>NaN</td>\n",
       "      <td>150</td>\n",
       "    </tr>\n",
       "    <tr>\n",
       "      <th>2</th>\n",
       "      <td>Venue3</td>\n",
       "      <td>בן צבי יצחק 10.0</td>\n",
       "      <td>NaN</td>\n",
       "      <td>91</td>\n",
       "    </tr>\n",
       "    <tr>\n",
       "      <th>3</th>\n",
       "      <td>Venue4</td>\n",
       "      <td>אפרים לרון 112.0</td>\n",
       "      <td>NaN</td>\n",
       "      <td>130</td>\n",
       "    </tr>\n",
       "  </tbody>\n",
       "</table>\n",
       "</div>"
      ],
      "text/plain": [
       "  Available Properties      Full Address Cost Size\n",
       "0               Venue1      סוקולוב 43.0  NaN  120\n",
       "1               Venue2        התקוה 10.0  NaN  150\n",
       "2               Venue3  בן צבי יצחק 10.0  NaN   91\n",
       "3               Venue4  אפרים לרון 112.0  NaN  130"
      ]
     },
     "execution_count": 1083,
     "metadata": {},
     "output_type": "execute_result"
    }
   ],
   "source": [
    "venues_for_rent = pd.DataFrame({'Available Properties':['Venue1','Venue2','Venue3','Venue4'],\n",
    "                               'Full Address':['סוקולוב 43.0','התקוה 10.0','בן צבי יצחק 10.0','אפרים לרון 112.0'],\n",
    "                               'Cost':['NaN','NaN','NaN','NaN'],\n",
    "                               'Size':['120','150','91','130']})\n",
    "\n",
    "\n",
    "venues_for_rent"
   ]
  },
  {
   "cell_type": "markdown",
   "metadata": {},
   "source": [
    "Now, let's check out the locations of the competitors and load them onto a dataframe. \n",
    "\n",
    "A query on Trip Advisor returned two results:\n",
    "https://www.tripadvisor.com/Restaurants-g297741-c38-Beersheba_Southern_District.html.\n",
    "\n",
    "A query on Foursquare City Guide returned a handful of results.\n",
    "https://foursquare.com/explore?mode=url&near=Beersheba%2C%20Israel&nearGeoId=72057594038223466&q=Sushi%20Restaurant\n",
    "\n",
    "A similar query on Google Maps faired better with over a dozen hits, including the ones found on Foursquare:\n",
    "https://www.google.co.il/maps/search/%D7%A1%D7%95%D7%A9%D7%99,+%D7%91%D7%90%D7%A8+%D7%A9%D7%91%D7%A2%E2%80%AD/@31.2613844,34.8604131,12z/data=!3m1!4b1\n",
    "\n",
    "Like Yad2, Trip Advisor, and Google don't allow scraping, requiring us to build another dataframe manually. "
   ]
  },
  {
   "cell_type": "code",
   "execution_count": 1084,
   "metadata": {},
   "outputs": [
    {
     "data": {
      "text/html": [
       "<div>\n",
       "<style scoped>\n",
       "    .dataframe tbody tr th:only-of-type {\n",
       "        vertical-align: middle;\n",
       "    }\n",
       "\n",
       "    .dataframe tbody tr th {\n",
       "        vertical-align: top;\n",
       "    }\n",
       "\n",
       "    .dataframe thead th {\n",
       "        text-align: right;\n",
       "    }\n",
       "</style>\n",
       "<table border=\"1\" class=\"dataframe\">\n",
       "  <thead>\n",
       "    <tr style=\"text-align: right;\">\n",
       "      <th></th>\n",
       "      <th>Full Address</th>\n",
       "      <th>Restaurant</th>\n",
       "    </tr>\n",
       "  </thead>\n",
       "  <tbody>\n",
       "    <tr>\n",
       "      <th>0</th>\n",
       "      <td>הרצל 29.0</td>\n",
       "      <td>Izakaya</td>\n",
       "    </tr>\n",
       "    <tr>\n",
       "      <th>1</th>\n",
       "      <td>שד דוד טוביהו 125.0</td>\n",
       "      <td>Japanica</td>\n",
       "    </tr>\n",
       "    <tr>\n",
       "      <th>2</th>\n",
       "      <td>קקל 18.0</td>\n",
       "      <td>Sushi Bar</td>\n",
       "    </tr>\n",
       "    <tr>\n",
       "      <th>3</th>\n",
       "      <td>תל חי 18.0</td>\n",
       "      <td>SFTH</td>\n",
       "    </tr>\n",
       "    <tr>\n",
       "      <th>4</th>\n",
       "      <td>שד חן 8.0</td>\n",
       "      <td>Natali's Sushi</td>\n",
       "    </tr>\n",
       "    <tr>\n",
       "      <th>5</th>\n",
       "      <td>ברוך קטינקא 2.0</td>\n",
       "      <td>Kampai Street Wok</td>\n",
       "    </tr>\n",
       "    <tr>\n",
       "      <th>6</th>\n",
       "      <td>דרך השלום 52.0</td>\n",
       "      <td>Sushi night bar</td>\n",
       "    </tr>\n",
       "    <tr>\n",
       "      <th>7</th>\n",
       "      <td>ההנדסה 1.0</td>\n",
       "      <td>Kampai</td>\n",
       "    </tr>\n",
       "    <tr>\n",
       "      <th>8</th>\n",
       "      <td>יצחק אבינו 5.0</td>\n",
       "      <td>Asyatica</td>\n",
       "    </tr>\n",
       "    <tr>\n",
       "      <th>9</th>\n",
       "      <td>שד ירושלים 2.0</td>\n",
       "      <td>Mukpatzin</td>\n",
       "    </tr>\n",
       "    <tr>\n",
       "      <th>10</th>\n",
       "      <td>שד רגר 28.0</td>\n",
       "      <td>Hanoi</td>\n",
       "    </tr>\n",
       "    <tr>\n",
       "      <th>11</th>\n",
       "      <td>חיטה 1.0</td>\n",
       "      <td>Duohi</td>\n",
       "    </tr>\n",
       "  </tbody>\n",
       "</table>\n",
       "</div>"
      ],
      "text/plain": [
       "           Full Address         Restaurant\n",
       "0             הרצל 29.0            Izakaya\n",
       "1   שד דוד טוביהו 125.0           Japanica\n",
       "2              קקל 18.0          Sushi Bar\n",
       "3            תל חי 18.0               SFTH\n",
       "4             שד חן 8.0     Natali's Sushi\n",
       "5       ברוך קטינקא 2.0  Kampai Street Wok\n",
       "6        דרך השלום 52.0    Sushi night bar\n",
       "7            ההנדסה 1.0             Kampai\n",
       "8        יצחק אבינו 5.0           Asyatica\n",
       "9        שד ירושלים 2.0          Mukpatzin\n",
       "10          שד רגר 28.0              Hanoi\n",
       "11             חיטה 1.0              Duohi"
      ]
     },
     "execution_count": 1084,
     "metadata": {},
     "output_type": "execute_result"
    }
   ],
   "source": [
    "competitors = pd.DataFrame({'Full Address': ['הרצל 29.0','שד דוד טוביהו 125.0','קקל 18.0',\n",
    "                         'תל חי 18.0','שד חן 8.0', 'ברוך קטינקא 2.0', \n",
    "                         'דרך השלום 52.0','ההנדסה 1.0','יצחק אבינו 5.0',\n",
    "                         'שד ירושלים 2.0','שד רגר 28.0','חיטה 1.0'],\n",
    "       'Restaurant': ['Izakaya','Japanica','Sushi Bar','SFTH',\n",
    "                      'Natali\\'s Sushi','Kampai Street Wok', \n",
    "                      'Sushi night bar','Kampai',\n",
    "                      'Asyatica','Mukpatzin','Hanoi','Duohi']})\n",
    "\n",
    "\n",
    "competitors"
   ]
  },
  {
   "cell_type": "markdown",
   "metadata": {},
   "source": [
    "Now let's combine everything into a single dataframe."
   ]
  },
  {
   "cell_type": "code",
   "execution_count": 1085,
   "metadata": {},
   "outputs": [
    {
     "data": {
      "text/html": [
       "<div>\n",
       "<style scoped>\n",
       "    .dataframe tbody tr th:only-of-type {\n",
       "        vertical-align: middle;\n",
       "    }\n",
       "\n",
       "    .dataframe tbody tr th {\n",
       "        vertical-align: top;\n",
       "    }\n",
       "\n",
       "    .dataframe thead th {\n",
       "        text-align: right;\n",
       "    }\n",
       "</style>\n",
       "<table border=\"1\" class=\"dataframe\">\n",
       "  <thead>\n",
       "    <tr style=\"text-align: right;\">\n",
       "      <th></th>\n",
       "      <th>Full Address</th>\n",
       "      <th>Restaurant</th>\n",
       "      <th>House Number</th>\n",
       "      <th>Street Name</th>\n",
       "      <th>Latitude</th>\n",
       "      <th>Longitude</th>\n",
       "    </tr>\n",
       "  </thead>\n",
       "  <tbody>\n",
       "    <tr>\n",
       "      <th>0</th>\n",
       "      <td>הרצל 29.0</td>\n",
       "      <td>Izakaya</td>\n",
       "      <td>29.0</td>\n",
       "      <td>הרצל</td>\n",
       "      <td>31.239183</td>\n",
       "      <td>34.787364</td>\n",
       "    </tr>\n",
       "    <tr>\n",
       "      <th>1</th>\n",
       "      <td>תל חי 18.0</td>\n",
       "      <td>SFTH</td>\n",
       "      <td>18.0</td>\n",
       "      <td>תל חי</td>\n",
       "      <td>31.251679</td>\n",
       "      <td>34.788839</td>\n",
       "    </tr>\n",
       "    <tr>\n",
       "      <th>2</th>\n",
       "      <td>יצחק אבינו 5.0</td>\n",
       "      <td>Asyatica</td>\n",
       "      <td>5.0</td>\n",
       "      <td>יצחק אבינו</td>\n",
       "      <td>31.261188</td>\n",
       "      <td>34.795048</td>\n",
       "    </tr>\n",
       "    <tr>\n",
       "      <th>3</th>\n",
       "      <td>יצחק אבינו 5.0</td>\n",
       "      <td>Asyatica</td>\n",
       "      <td>5.0</td>\n",
       "      <td>יצחק אבינו</td>\n",
       "      <td>31.261021</td>\n",
       "      <td>34.795076</td>\n",
       "    </tr>\n",
       "    <tr>\n",
       "      <th>4</th>\n",
       "      <td>שד ירושלים 2.0</td>\n",
       "      <td>Mukpatzin</td>\n",
       "      <td>2.0</td>\n",
       "      <td>שד ירושלים</td>\n",
       "      <td>31.245673</td>\n",
       "      <td>34.782267</td>\n",
       "    </tr>\n",
       "    <tr>\n",
       "      <th>5</th>\n",
       "      <td>חיטה 1.0</td>\n",
       "      <td>Duohi</td>\n",
       "      <td>1.0</td>\n",
       "      <td>חיטה</td>\n",
       "      <td>31.235014</td>\n",
       "      <td>34.800343</td>\n",
       "    </tr>\n",
       "  </tbody>\n",
       "</table>\n",
       "</div>"
      ],
      "text/plain": [
       "     Full Address Restaurant  House Number Street Name   Latitude  Longitude\n",
       "0       הרצל 29.0    Izakaya          29.0        הרצל  31.239183  34.787364\n",
       "1      תל חי 18.0       SFTH          18.0       תל חי  31.251679  34.788839\n",
       "2  יצחק אבינו 5.0   Asyatica           5.0  יצחק אבינו  31.261188  34.795048\n",
       "3  יצחק אבינו 5.0   Asyatica           5.0  יצחק אבינו  31.261021  34.795076\n",
       "4  שד ירושלים 2.0  Mukpatzin           2.0  שד ירושלים  31.245673  34.782267\n",
       "5        חיטה 1.0      Duohi           1.0        חיטה  31.235014  34.800343"
      ]
     },
     "execution_count": 1085,
     "metadata": {},
     "output_type": "execute_result"
    }
   ],
   "source": [
    "df_competitors = competitors.merge(df_Addresses, how = 'inner', sort = False)\n",
    "df_competitors"
   ]
  },
  {
   "cell_type": "markdown",
   "metadata": {},
   "source": [
    "It seems that over half of the restaurants didn't make it, this is probably due to the inconsistency in street names.\n",
    "\n",
    "The missing addresses are:\n",
    "\"שד דוד טוביהו 125.0\"\n",
    "\"קקל 18.0\"\n",
    "\"שד חן 8.0\"\n",
    "\"ברוך קטינקא 2.0\"\n",
    "\"דרך השלום 52.0\"\n",
    "\"ההנדסה 1.0\"\n",
    "\"שד ירושלים 2.0\"\n",
    "\"שד רגר 28.0\"\n",
    "\n",
    "Let's seek them out and standardize them to fill out our new dataframe."
   ]
  },
  {
   "cell_type": "code",
   "execution_count": 1086,
   "metadata": {},
   "outputs": [
    {
     "name": "stdout",
     "output_type": "stream",
     "text": [
      "df_Addresses שד טוביהו דוד\n",
      "df_Streetnames טוביהו\n",
      "competitors שד דוד טוביהו 125.0\n"
     ]
    }
   ],
   "source": [
    "for i in df_Addresses['Street Name']:\n",
    "    if 'טוביהו' in i:\n",
    "        print('df_Addresses', i)\n",
    "        break\n",
    "for i in df_Streetnames['Street Name'].astype(str):\n",
    "    if 'טוביהו' in i:\n",
    "        print('df_Streetnames', i)\n",
    "for i in competitors['Full Address']:\n",
    "    if 'טוביהו' in i:\n",
    "        print('competitors', i)"
   ]
  },
  {
   "cell_type": "markdown",
   "metadata": {},
   "source": [
    "The result above shows a total discrepancy between the datasets. Now we must standardize the street names."
   ]
  },
  {
   "cell_type": "code",
   "execution_count": 1087,
   "metadata": {},
   "outputs": [],
   "source": [
    "df_Addresses = df_Addresses.replace([\"שד טוביהו דוד\"], \"שד דוד טוביהו\")\n",
    "df_Streetnames = df_Streetnames.replace([\"טוביהו\"],\"שד דוד טוביהו\")"
   ]
  },
  {
   "cell_type": "markdown",
   "metadata": {},
   "source": [
    "Let's repeat the process with the rest of the missing locations."
   ]
  },
  {
   "cell_type": "code",
   "execution_count": 1088,
   "metadata": {},
   "outputs": [
    {
     "name": "stdout",
     "output_type": "stream",
     "text": [
      "df_Addresses: קרן קיימת לישראל\n",
      "df_Streetnames: הדסה-קק\"ל\n",
      "df_Streetnames: קק\"ל - ארה\"ב\n",
      "competitors קקל 18.0\n"
     ]
    }
   ],
   "source": [
    "for i in df_Addresses['Street Name']:\n",
    "    if  'קרן קיימת' in i:\n",
    "        print('df_Addresses:', i)\n",
    "        break\n",
    "for i in df_Streetnames['Street Name'].astype(str):\n",
    "    if 'קק\"ל' in i:\n",
    "        print('df_Streetnames:', i)\n",
    "for i in competitors['Full Address']:\n",
    "    if 'קקל' in i:\n",
    "        print('competitors', i)"
   ]
  },
  {
   "cell_type": "markdown",
   "metadata": {},
   "source": [
    "We can see a naming mismatch here too: \"קקל\", \"קרן קיימת לישראל\" and \"קק\"ל\". Let's standardize it."
   ]
  },
  {
   "cell_type": "code",
   "execution_count": 1089,
   "metadata": {},
   "outputs": [],
   "source": [
    "df_Addresses = df_Addresses.replace(['קרן קיימת לישראל'],'קקל')\n",
    "df_Streetnames = df_Streetnames.replace(['הדסה-קק\"ל'], 'קקל')\n",
    "df_Streetnames = df_Streetnames.replace(['קק\"ל - ארה\"ב'], 'קקל')"
   ]
  },
  {
   "cell_type": "markdown",
   "metadata": {},
   "source": [
    "Let's move on to \"שד חן\"."
   ]
  },
  {
   "cell_type": "code",
   "execution_count": 1090,
   "metadata": {},
   "outputs": [
    {
     "name": "stdout",
     "output_type": "stream",
     "text": [
      "df_Addresses: ח\"ן\n",
      "df_Streetnames: ריחן\n",
      "df_Streetnames: חן\n",
      "competitors שד חן 8.0\n"
     ]
    }
   ],
   "source": [
    "for i in df_Addresses['Street Name']:\n",
    "    if  'ח\"ן' in i:\n",
    "        print('df_Addresses:', i)\n",
    "        break\n",
    "for i in df_Streetnames['Street Name'].astype(str):\n",
    "    if 'חן' in i:\n",
    "        print('df_Streetnames:', i)\n",
    "for i in competitors['Full Address']:\n",
    "    if 'חן' in i:\n",
    "        print('competitors', i) "
   ]
  },
  {
   "cell_type": "code",
   "execution_count": 1091,
   "metadata": {},
   "outputs": [],
   "source": [
    "df_Addresses = df_Addresses.replace(['ח\"ן'], 'שד חן')\n",
    "df_Streetnames = df_Streetnames.replace(['חן'], 'שד חן')"
   ]
  },
  {
   "cell_type": "markdown",
   "metadata": {},
   "source": [
    "Next is \"ברוך קטינקא 2.0\"."
   ]
  },
  {
   "cell_type": "code",
   "execution_count": 1092,
   "metadata": {},
   "outputs": [
    {
     "name": "stdout",
     "output_type": "stream",
     "text": [
      "df_Addresses: קטינקא ברוך\n",
      "df_Streetnames: קטינקא\n",
      "competitors ברוך קטינקא 2.0\n"
     ]
    }
   ],
   "source": [
    "for i in df_Addresses['Street Name']:\n",
    "    if  'קטי' in i:\n",
    "        print('df_Addresses:', i)\n",
    "        break\n",
    "for i in df_Streetnames['Street Name'].astype(str):\n",
    "    if 'קטי' in i:\n",
    "        print('df_Streetnames:', i)\n",
    "for i in competitors['Full Address']:\n",
    "    if 'קטי' in i:\n",
    "        print('competitors', i)"
   ]
  },
  {
   "cell_type": "code",
   "execution_count": 1093,
   "metadata": {},
   "outputs": [],
   "source": [
    "df_Addresses = df_Addresses.replace(['קטינקא ברוך'], 'ברוך קטינקא')\n",
    "df_Streetnames = df_Streetnames.replace(['קטינקא'], 'ברוך קטינקא')"
   ]
  },
  {
   "cell_type": "markdown",
   "metadata": {},
   "source": [
    "Next is \"דרך השלום 52.0\""
   ]
  },
  {
   "cell_type": "code",
   "execution_count": 1094,
   "metadata": {},
   "outputs": [
    {
     "name": "stdout",
     "output_type": "stream",
     "text": [
      "df_Addresses: השלום\n",
      "df_Streetnames: השלום\n",
      "competitors דרך השלום 52.0\n"
     ]
    }
   ],
   "source": [
    "for i in df_Addresses['Street Name']:\n",
    "    if  'השלום' in i:\n",
    "        print('df_Addresses:', i)\n",
    "        break\n",
    "for i in df_Streetnames['Street Name'].astype(str):\n",
    "    if 'השלום' in i:\n",
    "        print('df_Streetnames:', i)\n",
    "for i in competitors['Full Address']:\n",
    "    if 'השלום' in i:\n",
    "        print('competitors', i) "
   ]
  },
  {
   "cell_type": "code",
   "execution_count": 1095,
   "metadata": {},
   "outputs": [],
   "source": [
    "df_Addresses = df_Addresses.replace(['השלום'], 'דרך השלום')\n",
    "df_Streetnames = df_Streetnames.replace(['השלום'], 'דרך השלום')"
   ]
  },
  {
   "cell_type": "markdown",
   "metadata": {},
   "source": [
    "Next is \"ההנדסה 1.0\""
   ]
  },
  {
   "cell_type": "code",
   "execution_count": 1096,
   "metadata": {},
   "outputs": [
    {
     "name": "stdout",
     "output_type": "stream",
     "text": [
      "df_Addresses: חיל הנדסה\n",
      "df_Streetnames: חיל הנדסה\n",
      "competitors: ההנדסה 1.0\n"
     ]
    }
   ],
   "source": [
    "for i in df_Addresses['Street Name']:\n",
    "    if 'הנדסה' in i:\n",
    "        print('df_Addresses:', i)\n",
    "        break\n",
    "for i in df_Streetnames['Street Name'].astype(str):\n",
    "    if 'הנדסה' in i:\n",
    "        print('df_Streetnames:', i)\n",
    "for i in competitors['Full Address']:\n",
    "    if 'הנדסה' in i:\n",
    "        print('competitors:', i)    "
   ]
  },
  {
   "cell_type": "code",
   "execution_count": 1097,
   "metadata": {},
   "outputs": [],
   "source": [
    "df_Addresses = df_Addresses.replace(['חיל הנדסה'], 'ההנדסה')\n",
    "df_Streetnames = df_Streetnames.replace(['חיל הנדסה'], 'ההנדסה')"
   ]
  },
  {
   "cell_type": "markdown",
   "metadata": {},
   "source": [
    "Next is \"שד ירושלים 2.0\""
   ]
  },
  {
   "cell_type": "code",
   "execution_count": 1098,
   "metadata": {},
   "outputs": [
    {
     "name": "stdout",
     "output_type": "stream",
     "text": [
      "df_Addresses שד ירושלים\n",
      "df_Streetnames הצדיק מירושלים\n",
      "df_Streetnames ירושלים\n",
      "competitors שד ירושלים 2.0\n"
     ]
    }
   ],
   "source": [
    "for i in df_Addresses['Street Name'].astype(str):\n",
    "    if 'שד ירושלים' in i:\n",
    "        print('df_Addresses', i)\n",
    "        break\n",
    "for i in df_Streetnames['Street Name'].astype(str):\n",
    "    if 'ירוש' in i:\n",
    "        print('df_Streetnames', i)\n",
    "for i in competitors['Full Address']:\n",
    "    if 'ירוש' in i:\n",
    "        print('competitors', i)"
   ]
  },
  {
   "cell_type": "code",
   "execution_count": 1099,
   "metadata": {},
   "outputs": [],
   "source": [
    "df_Streetnames = df_Streetnames.replace(['ירושלים'], 'שד ירושלים')"
   ]
  },
  {
   "cell_type": "markdown",
   "metadata": {},
   "source": [
    "The last address is \"שד רגר 28.0\""
   ]
  },
  {
   "cell_type": "code",
   "execution_count": 1100,
   "metadata": {},
   "outputs": [
    {
     "name": "stdout",
     "output_type": "stream",
     "text": [
      "df_Addresses שד רגר יצחק\n",
      "df_Streetnames רגר\n",
      "df_Streetnames גרגר הנחלים\n",
      "competitors שד רגר 28.0\n"
     ]
    }
   ],
   "source": [
    "for i in df_Addresses['Street Name']:\n",
    "    if 'רגר' in i:\n",
    "        print('df_Addresses', i)\n",
    "        break\n",
    "for i in df_Streetnames['Street Name'].astype(str):\n",
    "    if 'רגר' in i:\n",
    "        print('df_Streetnames', i)\n",
    "for i in competitors['Full Address']:\n",
    "    if 'רגר' in i:\n",
    "        print('competitors', i)"
   ]
  },
  {
   "cell_type": "code",
   "execution_count": 1101,
   "metadata": {},
   "outputs": [],
   "source": [
    "df_Addresses = df_Addresses.replace(['שד רגר יצחק'], 'שד רגר')\n",
    "df_Streetnames = df_Streetnames.replace (['רגר'], 'שד רגר')"
   ]
  },
  {
   "cell_type": "markdown",
   "metadata": {},
   "source": [
    "Now let's combine the street name and house number columns into a full address column, and try to join the datasets again."
   ]
  },
  {
   "cell_type": "code",
   "execution_count": 1102,
   "metadata": {},
   "outputs": [],
   "source": [
    "df_Addresses['Full Address'] = df_Addresses['Street Name'] + ' ' + df_Addresses['House Number'].astype(str)"
   ]
  },
  {
   "cell_type": "code",
   "execution_count": 1065,
   "metadata": {},
   "outputs": [
    {
     "data": {
      "text/html": [
       "<div>\n",
       "<style scoped>\n",
       "    .dataframe tbody tr th:only-of-type {\n",
       "        vertical-align: middle;\n",
       "    }\n",
       "\n",
       "    .dataframe tbody tr th {\n",
       "        vertical-align: top;\n",
       "    }\n",
       "\n",
       "    .dataframe thead th {\n",
       "        text-align: right;\n",
       "    }\n",
       "</style>\n",
       "<table border=\"1\" class=\"dataframe\">\n",
       "  <thead>\n",
       "    <tr style=\"text-align: right;\">\n",
       "      <th></th>\n",
       "      <th>Full Address</th>\n",
       "      <th>Restaurant</th>\n",
       "      <th>House Number</th>\n",
       "      <th>Street Name</th>\n",
       "      <th>Latitude</th>\n",
       "      <th>Longitude</th>\n",
       "      <th>Neighborhood</th>\n",
       "    </tr>\n",
       "  </thead>\n",
       "  <tbody>\n",
       "    <tr>\n",
       "      <th>0</th>\n",
       "      <td>הרצל 29.0</td>\n",
       "      <td>Izakaya</td>\n",
       "      <td>29.0</td>\n",
       "      <td>הרצל</td>\n",
       "      <td>31.239183</td>\n",
       "      <td>34.787364</td>\n",
       "      <td>עיר עתיקה</td>\n",
       "    </tr>\n",
       "    <tr>\n",
       "      <th>1</th>\n",
       "      <td>שד דוד טוביהו 125.0</td>\n",
       "      <td>Japanica</td>\n",
       "      <td>125.0</td>\n",
       "      <td>שד דוד טוביהו</td>\n",
       "      <td>31.250628</td>\n",
       "      <td>34.771949</td>\n",
       "      <td>א</td>\n",
       "    </tr>\n",
       "    <tr>\n",
       "      <th>2</th>\n",
       "      <td>קקל 18.0</td>\n",
       "      <td>Sushi Bar</td>\n",
       "      <td>18.0</td>\n",
       "      <td>קקל</td>\n",
       "      <td>31.237890</td>\n",
       "      <td>34.792229</td>\n",
       "      <td>ד</td>\n",
       "    </tr>\n",
       "    <tr>\n",
       "      <th>3</th>\n",
       "      <td>קקל 18.0</td>\n",
       "      <td>Sushi Bar</td>\n",
       "      <td>18.0</td>\n",
       "      <td>קקל</td>\n",
       "      <td>31.237890</td>\n",
       "      <td>34.792229</td>\n",
       "      <td>עיר עתיקה</td>\n",
       "    </tr>\n",
       "    <tr>\n",
       "      <th>4</th>\n",
       "      <td>תל חי 18.0</td>\n",
       "      <td>SFTH</td>\n",
       "      <td>18.0</td>\n",
       "      <td>תל חי</td>\n",
       "      <td>31.251679</td>\n",
       "      <td>34.788839</td>\n",
       "      <td>א</td>\n",
       "    </tr>\n",
       "    <tr>\n",
       "      <th>5</th>\n",
       "      <td>שד חן 8.0</td>\n",
       "      <td>Natali's Sushi</td>\n",
       "      <td>8.0</td>\n",
       "      <td>שד חן</td>\n",
       "      <td>31.266633</td>\n",
       "      <td>34.777503</td>\n",
       "      <td>רמות</td>\n",
       "    </tr>\n",
       "    <tr>\n",
       "      <th>6</th>\n",
       "      <td>ברוך קטינקא 2.0</td>\n",
       "      <td>Kampai Street Wok</td>\n",
       "      <td>2.0</td>\n",
       "      <td>ברוך קטינקא</td>\n",
       "      <td>31.225106</td>\n",
       "      <td>34.802902</td>\n",
       "      <td>קרית יהודית</td>\n",
       "    </tr>\n",
       "    <tr>\n",
       "      <th>7</th>\n",
       "      <td>דרך השלום 52.0</td>\n",
       "      <td>Sushi night bar</td>\n",
       "      <td>52.0</td>\n",
       "      <td>דרך השלום</td>\n",
       "      <td>31.251343</td>\n",
       "      <td>34.808246</td>\n",
       "      <td>ג</td>\n",
       "    </tr>\n",
       "    <tr>\n",
       "      <th>8</th>\n",
       "      <td>ההנדסה 1.0</td>\n",
       "      <td>Kampai</td>\n",
       "      <td>1.0</td>\n",
       "      <td>ההנדסה</td>\n",
       "      <td>31.244601</td>\n",
       "      <td>34.812736</td>\n",
       "      <td>א. תעשיה</td>\n",
       "    </tr>\n",
       "    <tr>\n",
       "      <th>9</th>\n",
       "      <td>יצחק אבינו 5.0</td>\n",
       "      <td>Asyatica</td>\n",
       "      <td>5.0</td>\n",
       "      <td>יצחק אבינו</td>\n",
       "      <td>31.261188</td>\n",
       "      <td>34.795048</td>\n",
       "      <td>ד</td>\n",
       "    </tr>\n",
       "    <tr>\n",
       "      <th>10</th>\n",
       "      <td>יצחק אבינו 5.0</td>\n",
       "      <td>Asyatica</td>\n",
       "      <td>5.0</td>\n",
       "      <td>יצחק אבינו</td>\n",
       "      <td>31.261021</td>\n",
       "      <td>34.795076</td>\n",
       "      <td>ד</td>\n",
       "    </tr>\n",
       "    <tr>\n",
       "      <th>11</th>\n",
       "      <td>שד ירושלים 2.0</td>\n",
       "      <td>Mukpatzin</td>\n",
       "      <td>2.0</td>\n",
       "      <td>שד ירושלים</td>\n",
       "      <td>31.245673</td>\n",
       "      <td>34.782267</td>\n",
       "      <td>ט</td>\n",
       "    </tr>\n",
       "    <tr>\n",
       "      <th>12</th>\n",
       "      <td>שד רגר 28.0</td>\n",
       "      <td>Hanoi</td>\n",
       "      <td>28.0</td>\n",
       "      <td>שד רגר</td>\n",
       "      <td>31.247646</td>\n",
       "      <td>34.798698</td>\n",
       "      <td>א</td>\n",
       "    </tr>\n",
       "    <tr>\n",
       "      <th>13</th>\n",
       "      <td>חיטה 1.0</td>\n",
       "      <td>Duohi</td>\n",
       "      <td>1.0</td>\n",
       "      <td>חיטה</td>\n",
       "      <td>31.235014</td>\n",
       "      <td>34.800343</td>\n",
       "      <td>א. תעשיה</td>\n",
       "    </tr>\n",
       "  </tbody>\n",
       "</table>\n",
       "</div>"
      ],
      "text/plain": [
       "           Full Address         Restaurant  House Number    Street Name  \\\n",
       "0             הרצל 29.0            Izakaya          29.0           הרצל   \n",
       "1   שד דוד טוביהו 125.0           Japanica         125.0  שד דוד טוביהו   \n",
       "2              קקל 18.0          Sushi Bar          18.0            קקל   \n",
       "3              קקל 18.0          Sushi Bar          18.0            קקל   \n",
       "4            תל חי 18.0               SFTH          18.0          תל חי   \n",
       "5             שד חן 8.0     Natali's Sushi           8.0          שד חן   \n",
       "6       ברוך קטינקא 2.0  Kampai Street Wok           2.0    ברוך קטינקא   \n",
       "7        דרך השלום 52.0    Sushi night bar          52.0      דרך השלום   \n",
       "8            ההנדסה 1.0             Kampai           1.0         ההנדסה   \n",
       "9        יצחק אבינו 5.0           Asyatica           5.0     יצחק אבינו   \n",
       "10       יצחק אבינו 5.0           Asyatica           5.0     יצחק אבינו   \n",
       "11       שד ירושלים 2.0          Mukpatzin           2.0     שד ירושלים   \n",
       "12          שד רגר 28.0              Hanoi          28.0         שד רגר   \n",
       "13             חיטה 1.0              Duohi           1.0           חיטה   \n",
       "\n",
       "     Latitude  Longitude Neighborhood  \n",
       "0   31.239183  34.787364    עיר עתיקה  \n",
       "1   31.250628  34.771949            א  \n",
       "2   31.237890  34.792229            ד  \n",
       "3   31.237890  34.792229    עיר עתיקה  \n",
       "4   31.251679  34.788839            א  \n",
       "5   31.266633  34.777503         רמות  \n",
       "6   31.225106  34.802902  קרית יהודית  \n",
       "7   31.251343  34.808246            ג  \n",
       "8   31.244601  34.812736     א. תעשיה  \n",
       "9   31.261188  34.795048            ד  \n",
       "10  31.261021  34.795076            ד  \n",
       "11  31.245673  34.782267            ט  \n",
       "12  31.247646  34.798698            א  \n",
       "13  31.235014  34.800343     א. תעשיה  "
      ]
     },
     "execution_count": 1065,
     "metadata": {},
     "output_type": "execute_result"
    }
   ],
   "source": [
    "df_comb = competitors.merge(df_Addresses, how = 'inner', sort = False)\n",
    "df_comb = df_comb.merge(df_Streetnames, how = 'inner', sort = False)\n",
    "df_comb"
   ]
  },
  {
   "cell_type": "markdown",
   "metadata": {},
   "source": [
    "Much better!"
   ]
  },
  {
   "cell_type": "markdown",
   "metadata": {},
   "source": [
    "Now, let's do the same with \"venues_for_rent\" to get the coordinates of the available properties for rent."
   ]
  },
  {
   "cell_type": "code",
   "execution_count": 1103,
   "metadata": {},
   "outputs": [
    {
     "data": {
      "text/html": [
       "<div>\n",
       "<style scoped>\n",
       "    .dataframe tbody tr th:only-of-type {\n",
       "        vertical-align: middle;\n",
       "    }\n",
       "\n",
       "    .dataframe tbody tr th {\n",
       "        vertical-align: top;\n",
       "    }\n",
       "\n",
       "    .dataframe thead th {\n",
       "        text-align: right;\n",
       "    }\n",
       "</style>\n",
       "<table border=\"1\" class=\"dataframe\">\n",
       "  <thead>\n",
       "    <tr style=\"text-align: right;\">\n",
       "      <th></th>\n",
       "      <th>Available Properties</th>\n",
       "      <th>Full Address</th>\n",
       "      <th>Cost</th>\n",
       "      <th>Size</th>\n",
       "      <th>House Number</th>\n",
       "      <th>Street Name</th>\n",
       "      <th>Latitude</th>\n",
       "      <th>Longitude</th>\n",
       "    </tr>\n",
       "  </thead>\n",
       "  <tbody>\n",
       "    <tr>\n",
       "      <th>0</th>\n",
       "      <td>Venue2</td>\n",
       "      <td>התקוה 10.0</td>\n",
       "      <td>NaN</td>\n",
       "      <td>150</td>\n",
       "      <td>10.0</td>\n",
       "      <td>התקוה</td>\n",
       "      <td>31.248209</td>\n",
       "      <td>34.799296</td>\n",
       "    </tr>\n",
       "    <tr>\n",
       "      <th>1</th>\n",
       "      <td>Venue3</td>\n",
       "      <td>בן צבי יצחק 10.0</td>\n",
       "      <td>NaN</td>\n",
       "      <td>91</td>\n",
       "      <td>10.0</td>\n",
       "      <td>בן צבי יצחק</td>\n",
       "      <td>31.243253</td>\n",
       "      <td>34.799042</td>\n",
       "    </tr>\n",
       "  </tbody>\n",
       "</table>\n",
       "</div>"
      ],
      "text/plain": [
       "  Available Properties      Full Address Cost Size  House Number  Street Name  \\\n",
       "0               Venue2        התקוה 10.0  NaN  150          10.0        התקוה   \n",
       "1               Venue3  בן צבי יצחק 10.0  NaN   91          10.0  בן צבי יצחק   \n",
       "\n",
       "    Latitude  Longitude  \n",
       "0  31.248209  34.799296  \n",
       "1  31.243253  34.799042  "
      ]
     },
     "execution_count": 1103,
     "metadata": {},
     "output_type": "execute_result"
    }
   ],
   "source": [
    "df_venues = venues_for_rent.merge(df_Addresses, how = 'inner', sort = False)\n",
    "df_venues"
   ]
  },
  {
   "cell_type": "markdown",
   "metadata": {},
   "source": [
    "Looks like we are missing two addresses. Let's check them out."
   ]
  },
  {
   "cell_type": "code",
   "execution_count": 1105,
   "metadata": {},
   "outputs": [],
   "source": [
    "for i in df_Addresses['Street Name'].astype(str):\n",
    "    if 'לרון' in i:\n",
    "        print(i)"
   ]
  },
  {
   "cell_type": "markdown",
   "metadata": {},
   "source": [
    "As we can see, 'לרון' is absent from df_Addresses"
   ]
  },
  {
   "cell_type": "code",
   "execution_count": 1106,
   "metadata": {},
   "outputs": [],
   "source": [
    "for i in df_Addresses['Full Address'].astype(str):\n",
    "    if 'סוקולוב 43.0' in i:\n",
    "        print(i)"
   ]
  },
  {
   "cell_type": "markdown",
   "metadata": {},
   "source": [
    "Apparently, the address 'סוקולוב 43.0' is absent from df_Addresses.\n",
    "\n",
    "Now, let's fill in missing values."
   ]
  },
  {
   "cell_type": "code",
   "execution_count": 1107,
   "metadata": {},
   "outputs": [],
   "source": [
    "df_Addresses = df_Addresses.append({'Full Address': 'סוקולוב 43.0', 'Latitude':'31.245394', 'Longitude':'34.789741'}, ignore_index = True)\n",
    "df_Addresses = df_Addresses.append({'Full Address': 'אפרים לרון 112.0', 'Latitude':'31.230874', 'Longitude':'34.767214'}, ignore_index = True)"
   ]
  },
  {
   "cell_type": "code",
   "execution_count": 1108,
   "metadata": {},
   "outputs": [
    {
     "name": "stdout",
     "output_type": "stream",
     "text": [
      "אפרים לרון 112.0\n",
      "לרון\n"
     ]
    }
   ],
   "source": [
    "for i in df_Addresses['Full Address'].astype(str):\n",
    "    if 'לרון' in i:\n",
    "        print(i)\n",
    "for i in df_Streetnames['Street Name'].astype(str):\n",
    "    if 'לרון' in i:\n",
    "        print(i)"
   ]
  },
  {
   "cell_type": "code",
   "execution_count": 1109,
   "metadata": {},
   "outputs": [],
   "source": [
    "#Standardizing df_Streetnames\n",
    "df_Streetnames = df_Streetnames.replace(['לרון'], 'אפרים לרון')"
   ]
  },
  {
   "cell_type": "code",
   "execution_count": 1110,
   "metadata": {},
   "outputs": [
    {
     "data": {
      "text/html": [
       "<div>\n",
       "<style scoped>\n",
       "    .dataframe tbody tr th:only-of-type {\n",
       "        vertical-align: middle;\n",
       "    }\n",
       "\n",
       "    .dataframe tbody tr th {\n",
       "        vertical-align: top;\n",
       "    }\n",
       "\n",
       "    .dataframe thead th {\n",
       "        text-align: right;\n",
       "    }\n",
       "</style>\n",
       "<table border=\"1\" class=\"dataframe\">\n",
       "  <thead>\n",
       "    <tr style=\"text-align: right;\">\n",
       "      <th></th>\n",
       "      <th>Available Properties</th>\n",
       "      <th>Full Address</th>\n",
       "      <th>Cost</th>\n",
       "      <th>Size</th>\n",
       "      <th>House Number</th>\n",
       "      <th>Street Name</th>\n",
       "      <th>Latitude</th>\n",
       "      <th>Longitude</th>\n",
       "    </tr>\n",
       "  </thead>\n",
       "  <tbody>\n",
       "    <tr>\n",
       "      <th>0</th>\n",
       "      <td>Venue1</td>\n",
       "      <td>סוקולוב 43.0</td>\n",
       "      <td>NaN</td>\n",
       "      <td>120</td>\n",
       "      <td>NaN</td>\n",
       "      <td>NaN</td>\n",
       "      <td>31.245394</td>\n",
       "      <td>34.789741</td>\n",
       "    </tr>\n",
       "    <tr>\n",
       "      <th>1</th>\n",
       "      <td>Venue2</td>\n",
       "      <td>התקוה 10.0</td>\n",
       "      <td>NaN</td>\n",
       "      <td>150</td>\n",
       "      <td>10.0</td>\n",
       "      <td>התקוה</td>\n",
       "      <td>31.2482</td>\n",
       "      <td>34.7993</td>\n",
       "    </tr>\n",
       "    <tr>\n",
       "      <th>2</th>\n",
       "      <td>Venue3</td>\n",
       "      <td>בן צבי יצחק 10.0</td>\n",
       "      <td>NaN</td>\n",
       "      <td>91</td>\n",
       "      <td>10.0</td>\n",
       "      <td>בן צבי יצחק</td>\n",
       "      <td>31.2433</td>\n",
       "      <td>34.799</td>\n",
       "    </tr>\n",
       "    <tr>\n",
       "      <th>3</th>\n",
       "      <td>Venue4</td>\n",
       "      <td>אפרים לרון 112.0</td>\n",
       "      <td>NaN</td>\n",
       "      <td>130</td>\n",
       "      <td>NaN</td>\n",
       "      <td>NaN</td>\n",
       "      <td>31.230874</td>\n",
       "      <td>34.767214</td>\n",
       "    </tr>\n",
       "  </tbody>\n",
       "</table>\n",
       "</div>"
      ],
      "text/plain": [
       "  Available Properties      Full Address Cost Size  House Number  Street Name  \\\n",
       "0               Venue1      סוקולוב 43.0  NaN  120           NaN          NaN   \n",
       "1               Venue2        התקוה 10.0  NaN  150          10.0        התקוה   \n",
       "2               Venue3  בן צבי יצחק 10.0  NaN   91          10.0  בן צבי יצחק   \n",
       "3               Venue4  אפרים לרון 112.0  NaN  130           NaN          NaN   \n",
       "\n",
       "    Latitude  Longitude  \n",
       "0  31.245394  34.789741  \n",
       "1    31.2482    34.7993  \n",
       "2    31.2433     34.799  \n",
       "3  31.230874  34.767214  "
      ]
     },
     "execution_count": 1110,
     "metadata": {},
     "output_type": "execute_result"
    }
   ],
   "source": [
    "#Updating df_venues\n",
    "df_venues = venues_for_rent.merge(df_Addresses, how = 'inner', sort = False)\n",
    "df_venues"
   ]
  },
  {
   "cell_type": "code",
   "execution_count": 1111,
   "metadata": {},
   "outputs": [
    {
     "name": "stdout",
     "output_type": "stream",
     "text": [
      "צבי\n",
      "צביה המלכה\n",
      "הצבי\n",
      "בן צבי\n",
      "צביה ויצחק\n",
      "אורי צבי\n",
      "צבי-רן\n"
     ]
    }
   ],
   "source": [
    "for i in df_Streetnames['Street Name'].astype(str):\n",
    "    if 'צבי' in i:\n",
    "        print(i)"
   ]
  },
  {
   "cell_type": "code",
   "execution_count": 1112,
   "metadata": {},
   "outputs": [],
   "source": [
    "#Standardizing df_Streetnames\n",
    "df_Streetnames = df_Streetnames.replace(['בן צבי'], 'בן צבי יצחק')"
   ]
  },
  {
   "cell_type": "code",
   "execution_count": 1113,
   "metadata": {},
   "outputs": [
    {
     "data": {
      "text/html": [
       "<div>\n",
       "<style scoped>\n",
       "    .dataframe tbody tr th:only-of-type {\n",
       "        vertical-align: middle;\n",
       "    }\n",
       "\n",
       "    .dataframe tbody tr th {\n",
       "        vertical-align: top;\n",
       "    }\n",
       "\n",
       "    .dataframe thead th {\n",
       "        text-align: right;\n",
       "    }\n",
       "</style>\n",
       "<table border=\"1\" class=\"dataframe\">\n",
       "  <thead>\n",
       "    <tr style=\"text-align: right;\">\n",
       "      <th></th>\n",
       "      <th>Available Properties</th>\n",
       "      <th>Full Address</th>\n",
       "      <th>Cost</th>\n",
       "      <th>Size</th>\n",
       "      <th>House Number</th>\n",
       "      <th>Street Name</th>\n",
       "      <th>Latitude</th>\n",
       "      <th>Longitude</th>\n",
       "      <th>Neighborhood</th>\n",
       "    </tr>\n",
       "  </thead>\n",
       "  <tbody>\n",
       "    <tr>\n",
       "      <th>0</th>\n",
       "      <td>Venue1</td>\n",
       "      <td>סוקולוב 43.0</td>\n",
       "      <td>NaN</td>\n",
       "      <td>120</td>\n",
       "      <td>NaN</td>\n",
       "      <td>NaN</td>\n",
       "      <td>31.245394</td>\n",
       "      <td>34.789741</td>\n",
       "      <td>NaN</td>\n",
       "    </tr>\n",
       "    <tr>\n",
       "      <th>1</th>\n",
       "      <td>Venue4</td>\n",
       "      <td>אפרים לרון 112.0</td>\n",
       "      <td>NaN</td>\n",
       "      <td>130</td>\n",
       "      <td>NaN</td>\n",
       "      <td>NaN</td>\n",
       "      <td>31.230874</td>\n",
       "      <td>34.767214</td>\n",
       "      <td>NaN</td>\n",
       "    </tr>\n",
       "    <tr>\n",
       "      <th>2</th>\n",
       "      <td>Venue2</td>\n",
       "      <td>התקוה 10.0</td>\n",
       "      <td>NaN</td>\n",
       "      <td>150</td>\n",
       "      <td>10.0</td>\n",
       "      <td>התקוה</td>\n",
       "      <td>31.2482</td>\n",
       "      <td>34.7993</td>\n",
       "      <td>מ. אזרחי</td>\n",
       "    </tr>\n",
       "    <tr>\n",
       "      <th>3</th>\n",
       "      <td>Venue3</td>\n",
       "      <td>בן צבי יצחק 10.0</td>\n",
       "      <td>NaN</td>\n",
       "      <td>91</td>\n",
       "      <td>10.0</td>\n",
       "      <td>בן צבי יצחק</td>\n",
       "      <td>31.2433</td>\n",
       "      <td>34.799</td>\n",
       "      <td>מ. אזרחי</td>\n",
       "    </tr>\n",
       "  </tbody>\n",
       "</table>\n",
       "</div>"
      ],
      "text/plain": [
       "  Available Properties      Full Address Cost Size  House Number  Street Name  \\\n",
       "0               Venue1      סוקולוב 43.0  NaN  120           NaN          NaN   \n",
       "1               Venue4  אפרים לרון 112.0  NaN  130           NaN          NaN   \n",
       "2               Venue2        התקוה 10.0  NaN  150          10.0        התקוה   \n",
       "3               Venue3  בן צבי יצחק 10.0  NaN   91          10.0  בן צבי יצחק   \n",
       "\n",
       "    Latitude  Longitude Neighborhood  \n",
       "0  31.245394  34.789741          NaN  \n",
       "1  31.230874  34.767214          NaN  \n",
       "2    31.2482    34.7993     מ. אזרחי  \n",
       "3    31.2433     34.799     מ. אזרחי  "
      ]
     },
     "execution_count": 1113,
     "metadata": {},
     "output_type": "execute_result"
    }
   ],
   "source": [
    "#Updating df_venues\n",
    "#df_venues = venues_for_rent.merge(df_Addresses, how = 'inner', sort = False)\n",
    "df_venues = df_venues.merge(df_Streetnames, how = 'inner', sort = False)\n",
    "df_venues"
   ]
  },
  {
   "cell_type": "markdown",
   "metadata": {},
   "source": [
    "Two neighborhood values are still missing, let's fill them manually."
   ]
  },
  {
   "cell_type": "code",
   "execution_count": 1114,
   "metadata": {},
   "outputs": [
    {
     "data": {
      "text/html": [
       "<div>\n",
       "<style scoped>\n",
       "    .dataframe tbody tr th:only-of-type {\n",
       "        vertical-align: middle;\n",
       "    }\n",
       "\n",
       "    .dataframe tbody tr th {\n",
       "        vertical-align: top;\n",
       "    }\n",
       "\n",
       "    .dataframe thead th {\n",
       "        text-align: right;\n",
       "    }\n",
       "</style>\n",
       "<table border=\"1\" class=\"dataframe\">\n",
       "  <thead>\n",
       "    <tr style=\"text-align: right;\">\n",
       "      <th></th>\n",
       "      <th>Available Properties</th>\n",
       "      <th>Full Address</th>\n",
       "      <th>Cost</th>\n",
       "      <th>Size</th>\n",
       "      <th>House Number</th>\n",
       "      <th>Street Name</th>\n",
       "      <th>Latitude</th>\n",
       "      <th>Longitude</th>\n",
       "      <th>Neighborhood</th>\n",
       "    </tr>\n",
       "  </thead>\n",
       "  <tbody>\n",
       "    <tr>\n",
       "      <th>0</th>\n",
       "      <td>Venue1</td>\n",
       "      <td>סוקולוב 43.0</td>\n",
       "      <td>NaN</td>\n",
       "      <td>120</td>\n",
       "      <td>NaN</td>\n",
       "      <td>NaN</td>\n",
       "      <td>31.245394</td>\n",
       "      <td>34.789741</td>\n",
       "      <td>א</td>\n",
       "    </tr>\n",
       "    <tr>\n",
       "      <th>1</th>\n",
       "      <td>Venue4</td>\n",
       "      <td>אפרים לרון 112.0</td>\n",
       "      <td>NaN</td>\n",
       "      <td>130</td>\n",
       "      <td>NaN</td>\n",
       "      <td>NaN</td>\n",
       "      <td>31.230874</td>\n",
       "      <td>34.767214</td>\n",
       "      <td>נווה זאב</td>\n",
       "    </tr>\n",
       "    <tr>\n",
       "      <th>2</th>\n",
       "      <td>Venue2</td>\n",
       "      <td>התקוה 10.0</td>\n",
       "      <td>NaN</td>\n",
       "      <td>150</td>\n",
       "      <td>10.0</td>\n",
       "      <td>התקוה</td>\n",
       "      <td>31.2482</td>\n",
       "      <td>34.7993</td>\n",
       "      <td>מ. אזרחי</td>\n",
       "    </tr>\n",
       "    <tr>\n",
       "      <th>3</th>\n",
       "      <td>Venue3</td>\n",
       "      <td>בן צבי יצחק 10.0</td>\n",
       "      <td>NaN</td>\n",
       "      <td>91</td>\n",
       "      <td>10.0</td>\n",
       "      <td>בן צבי יצחק</td>\n",
       "      <td>31.2433</td>\n",
       "      <td>34.799</td>\n",
       "      <td>מ. אזרחי</td>\n",
       "    </tr>\n",
       "  </tbody>\n",
       "</table>\n",
       "</div>"
      ],
      "text/plain": [
       "  Available Properties      Full Address Cost Size  House Number  Street Name  \\\n",
       "0               Venue1      סוקולוב 43.0  NaN  120           NaN          NaN   \n",
       "1               Venue4  אפרים לרון 112.0  NaN  130           NaN          NaN   \n",
       "2               Venue2        התקוה 10.0  NaN  150          10.0        התקוה   \n",
       "3               Venue3  בן צבי יצחק 10.0  NaN   91          10.0  בן צבי יצחק   \n",
       "\n",
       "    Latitude  Longitude Neighborhood  \n",
       "0  31.245394  34.789741            א  \n",
       "1  31.230874  34.767214     נווה זאב  \n",
       "2    31.2482    34.7993     מ. אזרחי  \n",
       "3    31.2433     34.799     מ. אזרחי  "
      ]
     },
     "execution_count": 1114,
     "metadata": {},
     "output_type": "execute_result"
    }
   ],
   "source": [
    "df_venues.at[0, 'Neighborhood'] = \"א\"\n",
    "df_venues.at[1, 'Neighborhood'] = \"נווה זאב\"\n",
    "df_venues"
   ]
  },
  {
   "cell_type": "markdown",
   "metadata": {},
   "source": [
    "Now, after cleaning the datasets, lets plot them onto maps."
   ]
  },
  {
   "cell_type": "code",
   "execution_count": 1115,
   "metadata": {},
   "outputs": [],
   "source": [
    "import folium\n",
    "from geopy.geocoders import Nominatim\n",
    "# Matplotlib and associated plotting modules\n",
    "import matplotlib.cm as cm\n",
    "import matplotlib.colors as colors\n",
    "import matplotlib.pyplot as plt"
   ]
  },
  {
   "cell_type": "code",
   "execution_count": 1116,
   "metadata": {},
   "outputs": [],
   "source": [
    "df_venues['Latitude'] = df_venues['Latitude'].astype(float)\n",
    "df_venues['Longitude'] = df_venues['Longitude'].astype(float)"
   ]
  },
  {
   "cell_type": "code",
   "execution_count": 1117,
   "metadata": {},
   "outputs": [],
   "source": [
    "address = 'BeerSheva, Israel'\n",
    "\n",
    "geolocator = Nominatim(user_agent=\"bs_explorer\")\n",
    "location = geolocator.geocode(address)\n",
    "latitude = location.latitude\n",
    "longitude = location.longitude"
   ]
  },
  {
   "cell_type": "code",
   "execution_count": 1118,
   "metadata": {
    "scrolled": true
   },
   "outputs": [
    {
     "data": {
      "text/html": [
       "<div style=\"width:100%;\"><div style=\"position:relative;width:100%;height:0;padding-bottom:60%;\"><span style=\"color:#565656\">Make this Notebook Trusted to load map: File -> Trust Notebook</span><iframe src=\"about:blank\" style=\"position:absolute;width:100%;height:100%;left:0;top:0;border:none !important;\" data-html=%3C%21DOCTYPE%20html%3E%0A%3Chead%3E%20%20%20%20%0A%20%20%20%20%3Cmeta%20http-equiv%3D%22content-type%22%20content%3D%22text/html%3B%20charset%3DUTF-8%22%20/%3E%0A%20%20%20%20%3Cscript%3EL_PREFER_CANVAS%20%3D%20false%3B%20L_NO_TOUCH%20%3D%20false%3B%20L_DISABLE_3D%20%3D%20false%3B%3C/script%3E%0A%20%20%20%20%3Cscript%20src%3D%22https%3A//cdn.jsdelivr.net/npm/leaflet%401.2.0/dist/leaflet.js%22%3E%3C/script%3E%0A%20%20%20%20%3Cscript%20src%3D%22https%3A//ajax.googleapis.com/ajax/libs/jquery/1.11.1/jquery.min.js%22%3E%3C/script%3E%0A%20%20%20%20%3Cscript%20src%3D%22https%3A//maxcdn.bootstrapcdn.com/bootstrap/3.2.0/js/bootstrap.min.js%22%3E%3C/script%3E%0A%20%20%20%20%3Cscript%20src%3D%22https%3A//cdnjs.cloudflare.com/ajax/libs/Leaflet.awesome-markers/2.0.2/leaflet.awesome-markers.js%22%3E%3C/script%3E%0A%20%20%20%20%3Clink%20rel%3D%22stylesheet%22%20href%3D%22https%3A//cdn.jsdelivr.net/npm/leaflet%401.2.0/dist/leaflet.css%22/%3E%0A%20%20%20%20%3Clink%20rel%3D%22stylesheet%22%20href%3D%22https%3A//maxcdn.bootstrapcdn.com/bootstrap/3.2.0/css/bootstrap.min.css%22/%3E%0A%20%20%20%20%3Clink%20rel%3D%22stylesheet%22%20href%3D%22https%3A//maxcdn.bootstrapcdn.com/bootstrap/3.2.0/css/bootstrap-theme.min.css%22/%3E%0A%20%20%20%20%3Clink%20rel%3D%22stylesheet%22%20href%3D%22https%3A//maxcdn.bootstrapcdn.com/font-awesome/4.6.3/css/font-awesome.min.css%22/%3E%0A%20%20%20%20%3Clink%20rel%3D%22stylesheet%22%20href%3D%22https%3A//cdnjs.cloudflare.com/ajax/libs/Leaflet.awesome-markers/2.0.2/leaflet.awesome-markers.css%22/%3E%0A%20%20%20%20%3Clink%20rel%3D%22stylesheet%22%20href%3D%22https%3A//rawgit.com/python-visualization/folium/master/folium/templates/leaflet.awesome.rotate.css%22/%3E%0A%20%20%20%20%3Cstyle%3Ehtml%2C%20body%20%7Bwidth%3A%20100%25%3Bheight%3A%20100%25%3Bmargin%3A%200%3Bpadding%3A%200%3B%7D%3C/style%3E%0A%20%20%20%20%3Cstyle%3E%23map%20%7Bposition%3Aabsolute%3Btop%3A0%3Bbottom%3A0%3Bright%3A0%3Bleft%3A0%3B%7D%3C/style%3E%0A%20%20%20%20%0A%20%20%20%20%20%20%20%20%20%20%20%20%3Cstyle%3E%20%23map_5133504f3c4f45dc96ea0e5b2e5de252%20%7B%0A%20%20%20%20%20%20%20%20%20%20%20%20%20%20%20%20position%20%3A%20relative%3B%0A%20%20%20%20%20%20%20%20%20%20%20%20%20%20%20%20width%20%3A%20100.0%25%3B%0A%20%20%20%20%20%20%20%20%20%20%20%20%20%20%20%20height%3A%20100.0%25%3B%0A%20%20%20%20%20%20%20%20%20%20%20%20%20%20%20%20left%3A%200.0%25%3B%0A%20%20%20%20%20%20%20%20%20%20%20%20%20%20%20%20top%3A%200.0%25%3B%0A%20%20%20%20%20%20%20%20%20%20%20%20%20%20%20%20%7D%0A%20%20%20%20%20%20%20%20%20%20%20%20%3C/style%3E%0A%20%20%20%20%20%20%20%20%0A%3C/head%3E%0A%3Cbody%3E%20%20%20%20%0A%20%20%20%20%0A%20%20%20%20%20%20%20%20%20%20%20%20%3Cdiv%20class%3D%22folium-map%22%20id%3D%22map_5133504f3c4f45dc96ea0e5b2e5de252%22%20%3E%3C/div%3E%0A%20%20%20%20%20%20%20%20%0A%3C/body%3E%0A%3Cscript%3E%20%20%20%20%0A%20%20%20%20%0A%0A%20%20%20%20%20%20%20%20%20%20%20%20%0A%20%20%20%20%20%20%20%20%20%20%20%20%20%20%20%20var%20bounds%20%3D%20null%3B%0A%20%20%20%20%20%20%20%20%20%20%20%20%0A%0A%20%20%20%20%20%20%20%20%20%20%20%20var%20map_5133504f3c4f45dc96ea0e5b2e5de252%20%3D%20L.map%28%0A%20%20%20%20%20%20%20%20%20%20%20%20%20%20%20%20%20%20%20%20%20%20%20%20%20%20%20%20%20%20%20%20%20%20%27map_5133504f3c4f45dc96ea0e5b2e5de252%27%2C%0A%20%20%20%20%20%20%20%20%20%20%20%20%20%20%20%20%20%20%20%20%20%20%20%20%20%20%20%20%20%20%20%20%20%20%7Bcenter%3A%20%5B31.2457442%2C34.7925181%5D%2C%0A%20%20%20%20%20%20%20%20%20%20%20%20%20%20%20%20%20%20%20%20%20%20%20%20%20%20%20%20%20%20%20%20%20%20zoom%3A%2012%2C%0A%20%20%20%20%20%20%20%20%20%20%20%20%20%20%20%20%20%20%20%20%20%20%20%20%20%20%20%20%20%20%20%20%20%20maxBounds%3A%20bounds%2C%0A%20%20%20%20%20%20%20%20%20%20%20%20%20%20%20%20%20%20%20%20%20%20%20%20%20%20%20%20%20%20%20%20%20%20layers%3A%20%5B%5D%2C%0A%20%20%20%20%20%20%20%20%20%20%20%20%20%20%20%20%20%20%20%20%20%20%20%20%20%20%20%20%20%20%20%20%20%20worldCopyJump%3A%20false%2C%0A%20%20%20%20%20%20%20%20%20%20%20%20%20%20%20%20%20%20%20%20%20%20%20%20%20%20%20%20%20%20%20%20%20%20crs%3A%20L.CRS.EPSG3857%0A%20%20%20%20%20%20%20%20%20%20%20%20%20%20%20%20%20%20%20%20%20%20%20%20%20%20%20%20%20%20%20%20%20%7D%29%3B%0A%20%20%20%20%20%20%20%20%20%20%20%20%0A%20%20%20%20%20%20%20%20%0A%20%20%20%20%0A%20%20%20%20%20%20%20%20%20%20%20%20var%20tile_layer_114cd14b656e4911803084e58794306a%20%3D%20L.tileLayer%28%0A%20%20%20%20%20%20%20%20%20%20%20%20%20%20%20%20%27https%3A//%7Bs%7D.tile.openstreetmap.org/%7Bz%7D/%7Bx%7D/%7By%7D.png%27%2C%0A%20%20%20%20%20%20%20%20%20%20%20%20%20%20%20%20%7B%0A%20%20%22attribution%22%3A%20null%2C%0A%20%20%22detectRetina%22%3A%20false%2C%0A%20%20%22maxZoom%22%3A%2018%2C%0A%20%20%22minZoom%22%3A%201%2C%0A%20%20%22noWrap%22%3A%20false%2C%0A%20%20%22subdomains%22%3A%20%22abc%22%0A%7D%0A%20%20%20%20%20%20%20%20%20%20%20%20%20%20%20%20%29.addTo%28map_5133504f3c4f45dc96ea0e5b2e5de252%29%3B%0A%20%20%20%20%20%20%20%20%0A%20%20%20%20%0A%20%20%20%20%20%20%20%20%20%20%20%20var%20circle_marker_d63bc13f88a74723b56477b59107e609%20%3D%20L.circleMarker%28%0A%20%20%20%20%20%20%20%20%20%20%20%20%20%20%20%20%5B31.245394%2C34.789741%5D%2C%0A%20%20%20%20%20%20%20%20%20%20%20%20%20%20%20%20%7B%0A%20%20%22bubblingMouseEvents%22%3A%20true%2C%0A%20%20%22color%22%3A%20%22blue%22%2C%0A%20%20%22dashArray%22%3A%20null%2C%0A%20%20%22dashOffset%22%3A%20null%2C%0A%20%20%22fill%22%3A%20true%2C%0A%20%20%22fillColor%22%3A%20%22%233186cc%22%2C%0A%20%20%22fillOpacity%22%3A%200.7%2C%0A%20%20%22fillRule%22%3A%20%22evenodd%22%2C%0A%20%20%22lineCap%22%3A%20%22round%22%2C%0A%20%20%22lineJoin%22%3A%20%22round%22%2C%0A%20%20%22opacity%22%3A%201.0%2C%0A%20%20%22radius%22%3A%205%2C%0A%20%20%22stroke%22%3A%20true%2C%0A%20%20%22weight%22%3A%203%0A%7D%0A%20%20%20%20%20%20%20%20%20%20%20%20%20%20%20%20%29.addTo%28map_5133504f3c4f45dc96ea0e5b2e5de252%29%3B%0A%20%20%20%20%20%20%20%20%20%20%20%20%0A%20%20%20%20%0A%20%20%20%20%20%20%20%20%20%20%20%20var%20popup_56cb885c5def4a3fbc10ab038b0e6feb%20%3D%20L.popup%28%7BmaxWidth%3A%20%27300%27%7D%29%3B%0A%0A%20%20%20%20%20%20%20%20%20%20%20%20%0A%20%20%20%20%20%20%20%20%20%20%20%20%20%20%20%20var%20html_c0152dfed67b48c1983b7776082b11dd%20%3D%20%24%28%27%3Cdiv%20id%3D%22html_c0152dfed67b48c1983b7776082b11dd%22%20style%3D%22width%3A%20100.0%25%3B%20height%3A%20100.0%25%3B%22%3E31.245394%2C%2034.789741%3C/div%3E%27%29%5B0%5D%3B%0A%20%20%20%20%20%20%20%20%20%20%20%20%20%20%20%20popup_56cb885c5def4a3fbc10ab038b0e6feb.setContent%28html_c0152dfed67b48c1983b7776082b11dd%29%3B%0A%20%20%20%20%20%20%20%20%20%20%20%20%0A%0A%20%20%20%20%20%20%20%20%20%20%20%20circle_marker_d63bc13f88a74723b56477b59107e609.bindPopup%28popup_56cb885c5def4a3fbc10ab038b0e6feb%29%3B%0A%0A%20%20%20%20%20%20%20%20%20%20%20%20%0A%20%20%20%20%20%20%20%20%0A%20%20%20%20%0A%20%20%20%20%20%20%20%20%20%20%20%20var%20circle_marker_d5aac56b6e8f481b913462886a740326%20%3D%20L.circleMarker%28%0A%20%20%20%20%20%20%20%20%20%20%20%20%20%20%20%20%5B31.230874%2C34.767214%5D%2C%0A%20%20%20%20%20%20%20%20%20%20%20%20%20%20%20%20%7B%0A%20%20%22bubblingMouseEvents%22%3A%20true%2C%0A%20%20%22color%22%3A%20%22blue%22%2C%0A%20%20%22dashArray%22%3A%20null%2C%0A%20%20%22dashOffset%22%3A%20null%2C%0A%20%20%22fill%22%3A%20true%2C%0A%20%20%22fillColor%22%3A%20%22%233186cc%22%2C%0A%20%20%22fillOpacity%22%3A%200.7%2C%0A%20%20%22fillRule%22%3A%20%22evenodd%22%2C%0A%20%20%22lineCap%22%3A%20%22round%22%2C%0A%20%20%22lineJoin%22%3A%20%22round%22%2C%0A%20%20%22opacity%22%3A%201.0%2C%0A%20%20%22radius%22%3A%205%2C%0A%20%20%22stroke%22%3A%20true%2C%0A%20%20%22weight%22%3A%203%0A%7D%0A%20%20%20%20%20%20%20%20%20%20%20%20%20%20%20%20%29.addTo%28map_5133504f3c4f45dc96ea0e5b2e5de252%29%3B%0A%20%20%20%20%20%20%20%20%20%20%20%20%0A%20%20%20%20%0A%20%20%20%20%20%20%20%20%20%20%20%20var%20popup_2c99ab6f5e5c4b45a9815d46c79ac460%20%3D%20L.popup%28%7BmaxWidth%3A%20%27300%27%7D%29%3B%0A%0A%20%20%20%20%20%20%20%20%20%20%20%20%0A%20%20%20%20%20%20%20%20%20%20%20%20%20%20%20%20var%20html_e86ebf8340dc403eafdb9c6e64f89010%20%3D%20%24%28%27%3Cdiv%20id%3D%22html_e86ebf8340dc403eafdb9c6e64f89010%22%20style%3D%22width%3A%20100.0%25%3B%20height%3A%20100.0%25%3B%22%3E31.230874%2C%2034.767214%3C/div%3E%27%29%5B0%5D%3B%0A%20%20%20%20%20%20%20%20%20%20%20%20%20%20%20%20popup_2c99ab6f5e5c4b45a9815d46c79ac460.setContent%28html_e86ebf8340dc403eafdb9c6e64f89010%29%3B%0A%20%20%20%20%20%20%20%20%20%20%20%20%0A%0A%20%20%20%20%20%20%20%20%20%20%20%20circle_marker_d5aac56b6e8f481b913462886a740326.bindPopup%28popup_2c99ab6f5e5c4b45a9815d46c79ac460%29%3B%0A%0A%20%20%20%20%20%20%20%20%20%20%20%20%0A%20%20%20%20%20%20%20%20%0A%20%20%20%20%0A%20%20%20%20%20%20%20%20%20%20%20%20var%20circle_marker_a5c69f6c6f2c46de8d50daf543c1a823%20%3D%20L.circleMarker%28%0A%20%20%20%20%20%20%20%20%20%20%20%20%20%20%20%20%5B31.248208526000038%2C34.799295502000064%5D%2C%0A%20%20%20%20%20%20%20%20%20%20%20%20%20%20%20%20%7B%0A%20%20%22bubblingMouseEvents%22%3A%20true%2C%0A%20%20%22color%22%3A%20%22blue%22%2C%0A%20%20%22dashArray%22%3A%20null%2C%0A%20%20%22dashOffset%22%3A%20null%2C%0A%20%20%22fill%22%3A%20true%2C%0A%20%20%22fillColor%22%3A%20%22%233186cc%22%2C%0A%20%20%22fillOpacity%22%3A%200.7%2C%0A%20%20%22fillRule%22%3A%20%22evenodd%22%2C%0A%20%20%22lineCap%22%3A%20%22round%22%2C%0A%20%20%22lineJoin%22%3A%20%22round%22%2C%0A%20%20%22opacity%22%3A%201.0%2C%0A%20%20%22radius%22%3A%205%2C%0A%20%20%22stroke%22%3A%20true%2C%0A%20%20%22weight%22%3A%203%0A%7D%0A%20%20%20%20%20%20%20%20%20%20%20%20%20%20%20%20%29.addTo%28map_5133504f3c4f45dc96ea0e5b2e5de252%29%3B%0A%20%20%20%20%20%20%20%20%20%20%20%20%0A%20%20%20%20%0A%20%20%20%20%20%20%20%20%20%20%20%20var%20popup_667d72c87ce94eee824ed6ea1aa98a60%20%3D%20L.popup%28%7BmaxWidth%3A%20%27300%27%7D%29%3B%0A%0A%20%20%20%20%20%20%20%20%20%20%20%20%0A%20%20%20%20%20%20%20%20%20%20%20%20%20%20%20%20var%20html_8ad061698cc946098b8281aeff92d116%20%3D%20%24%28%27%3Cdiv%20id%3D%22html_8ad061698cc946098b8281aeff92d116%22%20style%3D%22width%3A%20100.0%25%3B%20height%3A%20100.0%25%3B%22%3E31.248208526000038%2C%2034.799295502000064%3C/div%3E%27%29%5B0%5D%3B%0A%20%20%20%20%20%20%20%20%20%20%20%20%20%20%20%20popup_667d72c87ce94eee824ed6ea1aa98a60.setContent%28html_8ad061698cc946098b8281aeff92d116%29%3B%0A%20%20%20%20%20%20%20%20%20%20%20%20%0A%0A%20%20%20%20%20%20%20%20%20%20%20%20circle_marker_a5c69f6c6f2c46de8d50daf543c1a823.bindPopup%28popup_667d72c87ce94eee824ed6ea1aa98a60%29%3B%0A%0A%20%20%20%20%20%20%20%20%20%20%20%20%0A%20%20%20%20%20%20%20%20%0A%20%20%20%20%0A%20%20%20%20%20%20%20%20%20%20%20%20var%20circle_marker_7cd31bbe8de54be69a3fecc20d8084a7%20%3D%20L.circleMarker%28%0A%20%20%20%20%20%20%20%20%20%20%20%20%20%20%20%20%5B31.243252943000073%2C34.79904244700003%5D%2C%0A%20%20%20%20%20%20%20%20%20%20%20%20%20%20%20%20%7B%0A%20%20%22bubblingMouseEvents%22%3A%20true%2C%0A%20%20%22color%22%3A%20%22blue%22%2C%0A%20%20%22dashArray%22%3A%20null%2C%0A%20%20%22dashOffset%22%3A%20null%2C%0A%20%20%22fill%22%3A%20true%2C%0A%20%20%22fillColor%22%3A%20%22%233186cc%22%2C%0A%20%20%22fillOpacity%22%3A%200.7%2C%0A%20%20%22fillRule%22%3A%20%22evenodd%22%2C%0A%20%20%22lineCap%22%3A%20%22round%22%2C%0A%20%20%22lineJoin%22%3A%20%22round%22%2C%0A%20%20%22opacity%22%3A%201.0%2C%0A%20%20%22radius%22%3A%205%2C%0A%20%20%22stroke%22%3A%20true%2C%0A%20%20%22weight%22%3A%203%0A%7D%0A%20%20%20%20%20%20%20%20%20%20%20%20%20%20%20%20%29.addTo%28map_5133504f3c4f45dc96ea0e5b2e5de252%29%3B%0A%20%20%20%20%20%20%20%20%20%20%20%20%0A%20%20%20%20%0A%20%20%20%20%20%20%20%20%20%20%20%20var%20popup_358f070d053b4e77b4586c75195684df%20%3D%20L.popup%28%7BmaxWidth%3A%20%27300%27%7D%29%3B%0A%0A%20%20%20%20%20%20%20%20%20%20%20%20%0A%20%20%20%20%20%20%20%20%20%20%20%20%20%20%20%20var%20html_05e669d37fba461cafd024e3f7e4d4ed%20%3D%20%24%28%27%3Cdiv%20id%3D%22html_05e669d37fba461cafd024e3f7e4d4ed%22%20style%3D%22width%3A%20100.0%25%3B%20height%3A%20100.0%25%3B%22%3E31.243252943000073%2C%2034.79904244700003%3C/div%3E%27%29%5B0%5D%3B%0A%20%20%20%20%20%20%20%20%20%20%20%20%20%20%20%20popup_358f070d053b4e77b4586c75195684df.setContent%28html_05e669d37fba461cafd024e3f7e4d4ed%29%3B%0A%20%20%20%20%20%20%20%20%20%20%20%20%0A%0A%20%20%20%20%20%20%20%20%20%20%20%20circle_marker_7cd31bbe8de54be69a3fecc20d8084a7.bindPopup%28popup_358f070d053b4e77b4586c75195684df%29%3B%0A%0A%20%20%20%20%20%20%20%20%20%20%20%20%0A%20%20%20%20%20%20%20%20%0A%3C/script%3E onload=\"this.contentDocument.open();this.contentDocument.write(    decodeURIComponent(this.getAttribute('data-html')));this.contentDocument.close();\" allowfullscreen webkitallowfullscreen mozallowfullscreen></iframe></div></div>"
      ],
      "text/plain": [
       "<folium.folium.Map at 0x1fe265aac40>"
      ]
     },
     "execution_count": 1118,
     "metadata": {},
     "output_type": "execute_result"
    }
   ],
   "source": [
    "map_venues = folium.Map(location=[latitude, longitude], zoom_start=12)\n",
    "for Neighborhood, Latitude, Longitude in zip(df_venues['Neighborhood'], df_venues['Latitude'], df_venues['Longitude']):\n",
    "    label = '{}, {}'.format(Latitude, Longitude)\n",
    "    label = folium.Popup(label, parse_html=True)\n",
    "    folium.CircleMarker(\n",
    "        [Latitude, Longitude],\n",
    "        radius=5,\n",
    "        popup=label,\n",
    "        color='blue',\n",
    "        fill=True,\n",
    "        fill_color='#3186cc',\n",
    "        fill_opacity=0.7,\n",
    "        parse_html=False).add_to(map_venues)\n",
    "map_venues"
   ]
  },
  {
   "cell_type": "markdown",
   "metadata": {},
   "source": [
    "On the map above, we can see a cluster of three locations at the city center, and one isolated location in the south-west. Next let's plot the competitors."
   ]
  },
  {
   "cell_type": "code",
   "execution_count": 1119,
   "metadata": {},
   "outputs": [],
   "source": [
    "df_comb['Latitude'] = df_comb['Latitude'].astype(float)\n",
    "df_comb['Longitude'] = df_comb['Longitude'].astype(float)"
   ]
  },
  {
   "cell_type": "code",
   "execution_count": 1120,
   "metadata": {
    "scrolled": true
   },
   "outputs": [
    {
     "data": {
      "text/html": [
       "<div style=\"width:100%;\"><div style=\"position:relative;width:100%;height:0;padding-bottom:60%;\"><span style=\"color:#565656\">Make this Notebook Trusted to load map: File -> Trust Notebook</span><iframe src=\"about:blank\" style=\"position:absolute;width:100%;height:100%;left:0;top:0;border:none !important;\" data-html=%3C%21DOCTYPE%20html%3E%0A%3Chead%3E%20%20%20%20%0A%20%20%20%20%3Cmeta%20http-equiv%3D%22content-type%22%20content%3D%22text/html%3B%20charset%3DUTF-8%22%20/%3E%0A%20%20%20%20%3Cscript%3EL_PREFER_CANVAS%20%3D%20false%3B%20L_NO_TOUCH%20%3D%20false%3B%20L_DISABLE_3D%20%3D%20false%3B%3C/script%3E%0A%20%20%20%20%3Cscript%20src%3D%22https%3A//cdn.jsdelivr.net/npm/leaflet%401.2.0/dist/leaflet.js%22%3E%3C/script%3E%0A%20%20%20%20%3Cscript%20src%3D%22https%3A//ajax.googleapis.com/ajax/libs/jquery/1.11.1/jquery.min.js%22%3E%3C/script%3E%0A%20%20%20%20%3Cscript%20src%3D%22https%3A//maxcdn.bootstrapcdn.com/bootstrap/3.2.0/js/bootstrap.min.js%22%3E%3C/script%3E%0A%20%20%20%20%3Cscript%20src%3D%22https%3A//cdnjs.cloudflare.com/ajax/libs/Leaflet.awesome-markers/2.0.2/leaflet.awesome-markers.js%22%3E%3C/script%3E%0A%20%20%20%20%3Clink%20rel%3D%22stylesheet%22%20href%3D%22https%3A//cdn.jsdelivr.net/npm/leaflet%401.2.0/dist/leaflet.css%22/%3E%0A%20%20%20%20%3Clink%20rel%3D%22stylesheet%22%20href%3D%22https%3A//maxcdn.bootstrapcdn.com/bootstrap/3.2.0/css/bootstrap.min.css%22/%3E%0A%20%20%20%20%3Clink%20rel%3D%22stylesheet%22%20href%3D%22https%3A//maxcdn.bootstrapcdn.com/bootstrap/3.2.0/css/bootstrap-theme.min.css%22/%3E%0A%20%20%20%20%3Clink%20rel%3D%22stylesheet%22%20href%3D%22https%3A//maxcdn.bootstrapcdn.com/font-awesome/4.6.3/css/font-awesome.min.css%22/%3E%0A%20%20%20%20%3Clink%20rel%3D%22stylesheet%22%20href%3D%22https%3A//cdnjs.cloudflare.com/ajax/libs/Leaflet.awesome-markers/2.0.2/leaflet.awesome-markers.css%22/%3E%0A%20%20%20%20%3Clink%20rel%3D%22stylesheet%22%20href%3D%22https%3A//rawgit.com/python-visualization/folium/master/folium/templates/leaflet.awesome.rotate.css%22/%3E%0A%20%20%20%20%3Cstyle%3Ehtml%2C%20body%20%7Bwidth%3A%20100%25%3Bheight%3A%20100%25%3Bmargin%3A%200%3Bpadding%3A%200%3B%7D%3C/style%3E%0A%20%20%20%20%3Cstyle%3E%23map%20%7Bposition%3Aabsolute%3Btop%3A0%3Bbottom%3A0%3Bright%3A0%3Bleft%3A0%3B%7D%3C/style%3E%0A%20%20%20%20%0A%20%20%20%20%20%20%20%20%20%20%20%20%3Cstyle%3E%20%23map_0c2de3061bd5447e888b7c06b49e0ed9%20%7B%0A%20%20%20%20%20%20%20%20%20%20%20%20%20%20%20%20position%20%3A%20relative%3B%0A%20%20%20%20%20%20%20%20%20%20%20%20%20%20%20%20width%20%3A%20100.0%25%3B%0A%20%20%20%20%20%20%20%20%20%20%20%20%20%20%20%20height%3A%20100.0%25%3B%0A%20%20%20%20%20%20%20%20%20%20%20%20%20%20%20%20left%3A%200.0%25%3B%0A%20%20%20%20%20%20%20%20%20%20%20%20%20%20%20%20top%3A%200.0%25%3B%0A%20%20%20%20%20%20%20%20%20%20%20%20%20%20%20%20%7D%0A%20%20%20%20%20%20%20%20%20%20%20%20%3C/style%3E%0A%20%20%20%20%20%20%20%20%0A%3C/head%3E%0A%3Cbody%3E%20%20%20%20%0A%20%20%20%20%0A%20%20%20%20%20%20%20%20%20%20%20%20%3Cdiv%20class%3D%22folium-map%22%20id%3D%22map_0c2de3061bd5447e888b7c06b49e0ed9%22%20%3E%3C/div%3E%0A%20%20%20%20%20%20%20%20%0A%3C/body%3E%0A%3Cscript%3E%20%20%20%20%0A%20%20%20%20%0A%0A%20%20%20%20%20%20%20%20%20%20%20%20%0A%20%20%20%20%20%20%20%20%20%20%20%20%20%20%20%20var%20bounds%20%3D%20null%3B%0A%20%20%20%20%20%20%20%20%20%20%20%20%0A%0A%20%20%20%20%20%20%20%20%20%20%20%20var%20map_0c2de3061bd5447e888b7c06b49e0ed9%20%3D%20L.map%28%0A%20%20%20%20%20%20%20%20%20%20%20%20%20%20%20%20%20%20%20%20%20%20%20%20%20%20%20%20%20%20%20%20%20%20%27map_0c2de3061bd5447e888b7c06b49e0ed9%27%2C%0A%20%20%20%20%20%20%20%20%20%20%20%20%20%20%20%20%20%20%20%20%20%20%20%20%20%20%20%20%20%20%20%20%20%20%7Bcenter%3A%20%5B31.2457442%2C34.7925181%5D%2C%0A%20%20%20%20%20%20%20%20%20%20%20%20%20%20%20%20%20%20%20%20%20%20%20%20%20%20%20%20%20%20%20%20%20%20zoom%3A%2012%2C%0A%20%20%20%20%20%20%20%20%20%20%20%20%20%20%20%20%20%20%20%20%20%20%20%20%20%20%20%20%20%20%20%20%20%20maxBounds%3A%20bounds%2C%0A%20%20%20%20%20%20%20%20%20%20%20%20%20%20%20%20%20%20%20%20%20%20%20%20%20%20%20%20%20%20%20%20%20%20layers%3A%20%5B%5D%2C%0A%20%20%20%20%20%20%20%20%20%20%20%20%20%20%20%20%20%20%20%20%20%20%20%20%20%20%20%20%20%20%20%20%20%20worldCopyJump%3A%20false%2C%0A%20%20%20%20%20%20%20%20%20%20%20%20%20%20%20%20%20%20%20%20%20%20%20%20%20%20%20%20%20%20%20%20%20%20crs%3A%20L.CRS.EPSG3857%0A%20%20%20%20%20%20%20%20%20%20%20%20%20%20%20%20%20%20%20%20%20%20%20%20%20%20%20%20%20%20%20%20%20%7D%29%3B%0A%20%20%20%20%20%20%20%20%20%20%20%20%0A%20%20%20%20%20%20%20%20%0A%20%20%20%20%0A%20%20%20%20%20%20%20%20%20%20%20%20var%20tile_layer_c6d3ab3b433c4ed69661a1e719ccf2fc%20%3D%20L.tileLayer%28%0A%20%20%20%20%20%20%20%20%20%20%20%20%20%20%20%20%27https%3A//%7Bs%7D.tile.openstreetmap.org/%7Bz%7D/%7Bx%7D/%7By%7D.png%27%2C%0A%20%20%20%20%20%20%20%20%20%20%20%20%20%20%20%20%7B%0A%20%20%22attribution%22%3A%20null%2C%0A%20%20%22detectRetina%22%3A%20false%2C%0A%20%20%22maxZoom%22%3A%2018%2C%0A%20%20%22minZoom%22%3A%201%2C%0A%20%20%22noWrap%22%3A%20false%2C%0A%20%20%22subdomains%22%3A%20%22abc%22%0A%7D%0A%20%20%20%20%20%20%20%20%20%20%20%20%20%20%20%20%29.addTo%28map_0c2de3061bd5447e888b7c06b49e0ed9%29%3B%0A%20%20%20%20%20%20%20%20%0A%20%20%20%20%0A%20%20%20%20%20%20%20%20%20%20%20%20var%20circle_marker_f28fcc0c82724d42a3037ce7f42dab5d%20%3D%20L.circleMarker%28%0A%20%20%20%20%20%20%20%20%20%20%20%20%20%20%20%20%5B31.23918282300008%2C34.787364027000024%5D%2C%0A%20%20%20%20%20%20%20%20%20%20%20%20%20%20%20%20%7B%0A%20%20%22bubblingMouseEvents%22%3A%20true%2C%0A%20%20%22color%22%3A%20%22blue%22%2C%0A%20%20%22dashArray%22%3A%20null%2C%0A%20%20%22dashOffset%22%3A%20null%2C%0A%20%20%22fill%22%3A%20true%2C%0A%20%20%22fillColor%22%3A%20%22%233186cc%22%2C%0A%20%20%22fillOpacity%22%3A%200.7%2C%0A%20%20%22fillRule%22%3A%20%22evenodd%22%2C%0A%20%20%22lineCap%22%3A%20%22round%22%2C%0A%20%20%22lineJoin%22%3A%20%22round%22%2C%0A%20%20%22opacity%22%3A%201.0%2C%0A%20%20%22radius%22%3A%205%2C%0A%20%20%22stroke%22%3A%20true%2C%0A%20%20%22weight%22%3A%203%0A%7D%0A%20%20%20%20%20%20%20%20%20%20%20%20%20%20%20%20%29.addTo%28map_0c2de3061bd5447e888b7c06b49e0ed9%29%3B%0A%20%20%20%20%20%20%20%20%20%20%20%20%0A%20%20%20%20%0A%20%20%20%20%20%20%20%20%20%20%20%20var%20popup_1a151f63e8b540509b5b945968e840ac%20%3D%20L.popup%28%7BmaxWidth%3A%20%27300%27%7D%29%3B%0A%0A%20%20%20%20%20%20%20%20%20%20%20%20%0A%20%20%20%20%20%20%20%20%20%20%20%20%20%20%20%20var%20html_f453eacab785471a8a03718af09dc21d%20%3D%20%24%28%27%3Cdiv%20id%3D%22html_f453eacab785471a8a03718af09dc21d%22%20style%3D%22width%3A%20100.0%25%3B%20height%3A%20100.0%25%3B%22%3E31.23918282300008%2C%2034.787364027000024%3C/div%3E%27%29%5B0%5D%3B%0A%20%20%20%20%20%20%20%20%20%20%20%20%20%20%20%20popup_1a151f63e8b540509b5b945968e840ac.setContent%28html_f453eacab785471a8a03718af09dc21d%29%3B%0A%20%20%20%20%20%20%20%20%20%20%20%20%0A%0A%20%20%20%20%20%20%20%20%20%20%20%20circle_marker_f28fcc0c82724d42a3037ce7f42dab5d.bindPopup%28popup_1a151f63e8b540509b5b945968e840ac%29%3B%0A%0A%20%20%20%20%20%20%20%20%20%20%20%20%0A%20%20%20%20%20%20%20%20%0A%20%20%20%20%0A%20%20%20%20%20%20%20%20%20%20%20%20var%20circle_marker_2eeee0781a464d4d8be94c387bd4eafa%20%3D%20L.circleMarker%28%0A%20%20%20%20%20%20%20%20%20%20%20%20%20%20%20%20%5B31.250627708000025%2C34.771948671000075%5D%2C%0A%20%20%20%20%20%20%20%20%20%20%20%20%20%20%20%20%7B%0A%20%20%22bubblingMouseEvents%22%3A%20true%2C%0A%20%20%22color%22%3A%20%22blue%22%2C%0A%20%20%22dashArray%22%3A%20null%2C%0A%20%20%22dashOffset%22%3A%20null%2C%0A%20%20%22fill%22%3A%20true%2C%0A%20%20%22fillColor%22%3A%20%22%233186cc%22%2C%0A%20%20%22fillOpacity%22%3A%200.7%2C%0A%20%20%22fillRule%22%3A%20%22evenodd%22%2C%0A%20%20%22lineCap%22%3A%20%22round%22%2C%0A%20%20%22lineJoin%22%3A%20%22round%22%2C%0A%20%20%22opacity%22%3A%201.0%2C%0A%20%20%22radius%22%3A%205%2C%0A%20%20%22stroke%22%3A%20true%2C%0A%20%20%22weight%22%3A%203%0A%7D%0A%20%20%20%20%20%20%20%20%20%20%20%20%20%20%20%20%29.addTo%28map_0c2de3061bd5447e888b7c06b49e0ed9%29%3B%0A%20%20%20%20%20%20%20%20%20%20%20%20%0A%20%20%20%20%0A%20%20%20%20%20%20%20%20%20%20%20%20var%20popup_24626ad3cf444a49ac111657f8c43864%20%3D%20L.popup%28%7BmaxWidth%3A%20%27300%27%7D%29%3B%0A%0A%20%20%20%20%20%20%20%20%20%20%20%20%0A%20%20%20%20%20%20%20%20%20%20%20%20%20%20%20%20var%20html_1c6bb4be3c1a4a4a94f4b865b0bb99e2%20%3D%20%24%28%27%3Cdiv%20id%3D%22html_1c6bb4be3c1a4a4a94f4b865b0bb99e2%22%20style%3D%22width%3A%20100.0%25%3B%20height%3A%20100.0%25%3B%22%3E31.250627708000025%2C%2034.771948671000075%3C/div%3E%27%29%5B0%5D%3B%0A%20%20%20%20%20%20%20%20%20%20%20%20%20%20%20%20popup_24626ad3cf444a49ac111657f8c43864.setContent%28html_1c6bb4be3c1a4a4a94f4b865b0bb99e2%29%3B%0A%20%20%20%20%20%20%20%20%20%20%20%20%0A%0A%20%20%20%20%20%20%20%20%20%20%20%20circle_marker_2eeee0781a464d4d8be94c387bd4eafa.bindPopup%28popup_24626ad3cf444a49ac111657f8c43864%29%3B%0A%0A%20%20%20%20%20%20%20%20%20%20%20%20%0A%20%20%20%20%20%20%20%20%0A%20%20%20%20%0A%20%20%20%20%20%20%20%20%20%20%20%20var%20circle_marker_8209c5e5422e4d678469238ba9040a19%20%3D%20L.circleMarker%28%0A%20%20%20%20%20%20%20%20%20%20%20%20%20%20%20%20%5B31.23788952700005%2C34.792228666000035%5D%2C%0A%20%20%20%20%20%20%20%20%20%20%20%20%20%20%20%20%7B%0A%20%20%22bubblingMouseEvents%22%3A%20true%2C%0A%20%20%22color%22%3A%20%22blue%22%2C%0A%20%20%22dashArray%22%3A%20null%2C%0A%20%20%22dashOffset%22%3A%20null%2C%0A%20%20%22fill%22%3A%20true%2C%0A%20%20%22fillColor%22%3A%20%22%233186cc%22%2C%0A%20%20%22fillOpacity%22%3A%200.7%2C%0A%20%20%22fillRule%22%3A%20%22evenodd%22%2C%0A%20%20%22lineCap%22%3A%20%22round%22%2C%0A%20%20%22lineJoin%22%3A%20%22round%22%2C%0A%20%20%22opacity%22%3A%201.0%2C%0A%20%20%22radius%22%3A%205%2C%0A%20%20%22stroke%22%3A%20true%2C%0A%20%20%22weight%22%3A%203%0A%7D%0A%20%20%20%20%20%20%20%20%20%20%20%20%20%20%20%20%29.addTo%28map_0c2de3061bd5447e888b7c06b49e0ed9%29%3B%0A%20%20%20%20%20%20%20%20%20%20%20%20%0A%20%20%20%20%0A%20%20%20%20%20%20%20%20%20%20%20%20var%20popup_4e3b8e0b59b7435cbfc04a5aebe599c6%20%3D%20L.popup%28%7BmaxWidth%3A%20%27300%27%7D%29%3B%0A%0A%20%20%20%20%20%20%20%20%20%20%20%20%0A%20%20%20%20%20%20%20%20%20%20%20%20%20%20%20%20var%20html_b6d338b09d624c9fa687fb3eaef5bcc5%20%3D%20%24%28%27%3Cdiv%20id%3D%22html_b6d338b09d624c9fa687fb3eaef5bcc5%22%20style%3D%22width%3A%20100.0%25%3B%20height%3A%20100.0%25%3B%22%3E31.23788952700005%2C%2034.792228666000035%3C/div%3E%27%29%5B0%5D%3B%0A%20%20%20%20%20%20%20%20%20%20%20%20%20%20%20%20popup_4e3b8e0b59b7435cbfc04a5aebe599c6.setContent%28html_b6d338b09d624c9fa687fb3eaef5bcc5%29%3B%0A%20%20%20%20%20%20%20%20%20%20%20%20%0A%0A%20%20%20%20%20%20%20%20%20%20%20%20circle_marker_8209c5e5422e4d678469238ba9040a19.bindPopup%28popup_4e3b8e0b59b7435cbfc04a5aebe599c6%29%3B%0A%0A%20%20%20%20%20%20%20%20%20%20%20%20%0A%20%20%20%20%20%20%20%20%0A%20%20%20%20%0A%20%20%20%20%20%20%20%20%20%20%20%20var%20circle_marker_b9e3d61cca6945978b22b7299cc20090%20%3D%20L.circleMarker%28%0A%20%20%20%20%20%20%20%20%20%20%20%20%20%20%20%20%5B31.23788952700005%2C34.792228666000035%5D%2C%0A%20%20%20%20%20%20%20%20%20%20%20%20%20%20%20%20%7B%0A%20%20%22bubblingMouseEvents%22%3A%20true%2C%0A%20%20%22color%22%3A%20%22blue%22%2C%0A%20%20%22dashArray%22%3A%20null%2C%0A%20%20%22dashOffset%22%3A%20null%2C%0A%20%20%22fill%22%3A%20true%2C%0A%20%20%22fillColor%22%3A%20%22%233186cc%22%2C%0A%20%20%22fillOpacity%22%3A%200.7%2C%0A%20%20%22fillRule%22%3A%20%22evenodd%22%2C%0A%20%20%22lineCap%22%3A%20%22round%22%2C%0A%20%20%22lineJoin%22%3A%20%22round%22%2C%0A%20%20%22opacity%22%3A%201.0%2C%0A%20%20%22radius%22%3A%205%2C%0A%20%20%22stroke%22%3A%20true%2C%0A%20%20%22weight%22%3A%203%0A%7D%0A%20%20%20%20%20%20%20%20%20%20%20%20%20%20%20%20%29.addTo%28map_0c2de3061bd5447e888b7c06b49e0ed9%29%3B%0A%20%20%20%20%20%20%20%20%20%20%20%20%0A%20%20%20%20%0A%20%20%20%20%20%20%20%20%20%20%20%20var%20popup_dd1425b4e4724317bc971a53ded32840%20%3D%20L.popup%28%7BmaxWidth%3A%20%27300%27%7D%29%3B%0A%0A%20%20%20%20%20%20%20%20%20%20%20%20%0A%20%20%20%20%20%20%20%20%20%20%20%20%20%20%20%20var%20html_d4ac3ec430d94f05bbc3f8352c85eb73%20%3D%20%24%28%27%3Cdiv%20id%3D%22html_d4ac3ec430d94f05bbc3f8352c85eb73%22%20style%3D%22width%3A%20100.0%25%3B%20height%3A%20100.0%25%3B%22%3E31.23788952700005%2C%2034.792228666000035%3C/div%3E%27%29%5B0%5D%3B%0A%20%20%20%20%20%20%20%20%20%20%20%20%20%20%20%20popup_dd1425b4e4724317bc971a53ded32840.setContent%28html_d4ac3ec430d94f05bbc3f8352c85eb73%29%3B%0A%20%20%20%20%20%20%20%20%20%20%20%20%0A%0A%20%20%20%20%20%20%20%20%20%20%20%20circle_marker_b9e3d61cca6945978b22b7299cc20090.bindPopup%28popup_dd1425b4e4724317bc971a53ded32840%29%3B%0A%0A%20%20%20%20%20%20%20%20%20%20%20%20%0A%20%20%20%20%20%20%20%20%0A%20%20%20%20%0A%20%20%20%20%20%20%20%20%20%20%20%20var%20circle_marker_420ad1b895e346798968ef19532a7e5a%20%3D%20L.circleMarker%28%0A%20%20%20%20%20%20%20%20%20%20%20%20%20%20%20%20%5B31.25167924300007%2C34.788839127000074%5D%2C%0A%20%20%20%20%20%20%20%20%20%20%20%20%20%20%20%20%7B%0A%20%20%22bubblingMouseEvents%22%3A%20true%2C%0A%20%20%22color%22%3A%20%22blue%22%2C%0A%20%20%22dashArray%22%3A%20null%2C%0A%20%20%22dashOffset%22%3A%20null%2C%0A%20%20%22fill%22%3A%20true%2C%0A%20%20%22fillColor%22%3A%20%22%233186cc%22%2C%0A%20%20%22fillOpacity%22%3A%200.7%2C%0A%20%20%22fillRule%22%3A%20%22evenodd%22%2C%0A%20%20%22lineCap%22%3A%20%22round%22%2C%0A%20%20%22lineJoin%22%3A%20%22round%22%2C%0A%20%20%22opacity%22%3A%201.0%2C%0A%20%20%22radius%22%3A%205%2C%0A%20%20%22stroke%22%3A%20true%2C%0A%20%20%22weight%22%3A%203%0A%7D%0A%20%20%20%20%20%20%20%20%20%20%20%20%20%20%20%20%29.addTo%28map_0c2de3061bd5447e888b7c06b49e0ed9%29%3B%0A%20%20%20%20%20%20%20%20%20%20%20%20%0A%20%20%20%20%0A%20%20%20%20%20%20%20%20%20%20%20%20var%20popup_ff73711ebca24c8a8d954cabd193c369%20%3D%20L.popup%28%7BmaxWidth%3A%20%27300%27%7D%29%3B%0A%0A%20%20%20%20%20%20%20%20%20%20%20%20%0A%20%20%20%20%20%20%20%20%20%20%20%20%20%20%20%20var%20html_3ee8ca8062684c9e9ed8ecccbbb8a91a%20%3D%20%24%28%27%3Cdiv%20id%3D%22html_3ee8ca8062684c9e9ed8ecccbbb8a91a%22%20style%3D%22width%3A%20100.0%25%3B%20height%3A%20100.0%25%3B%22%3E31.25167924300007%2C%2034.788839127000074%3C/div%3E%27%29%5B0%5D%3B%0A%20%20%20%20%20%20%20%20%20%20%20%20%20%20%20%20popup_ff73711ebca24c8a8d954cabd193c369.setContent%28html_3ee8ca8062684c9e9ed8ecccbbb8a91a%29%3B%0A%20%20%20%20%20%20%20%20%20%20%20%20%0A%0A%20%20%20%20%20%20%20%20%20%20%20%20circle_marker_420ad1b895e346798968ef19532a7e5a.bindPopup%28popup_ff73711ebca24c8a8d954cabd193c369%29%3B%0A%0A%20%20%20%20%20%20%20%20%20%20%20%20%0A%20%20%20%20%20%20%20%20%0A%20%20%20%20%0A%20%20%20%20%20%20%20%20%20%20%20%20var%20circle_marker_de77f279b4704b3ca511d54c1e1964f4%20%3D%20L.circleMarker%28%0A%20%20%20%20%20%20%20%20%20%20%20%20%20%20%20%20%5B31.26663338700007%2C34.777502627000054%5D%2C%0A%20%20%20%20%20%20%20%20%20%20%20%20%20%20%20%20%7B%0A%20%20%22bubblingMouseEvents%22%3A%20true%2C%0A%20%20%22color%22%3A%20%22blue%22%2C%0A%20%20%22dashArray%22%3A%20null%2C%0A%20%20%22dashOffset%22%3A%20null%2C%0A%20%20%22fill%22%3A%20true%2C%0A%20%20%22fillColor%22%3A%20%22%233186cc%22%2C%0A%20%20%22fillOpacity%22%3A%200.7%2C%0A%20%20%22fillRule%22%3A%20%22evenodd%22%2C%0A%20%20%22lineCap%22%3A%20%22round%22%2C%0A%20%20%22lineJoin%22%3A%20%22round%22%2C%0A%20%20%22opacity%22%3A%201.0%2C%0A%20%20%22radius%22%3A%205%2C%0A%20%20%22stroke%22%3A%20true%2C%0A%20%20%22weight%22%3A%203%0A%7D%0A%20%20%20%20%20%20%20%20%20%20%20%20%20%20%20%20%29.addTo%28map_0c2de3061bd5447e888b7c06b49e0ed9%29%3B%0A%20%20%20%20%20%20%20%20%20%20%20%20%0A%20%20%20%20%0A%20%20%20%20%20%20%20%20%20%20%20%20var%20popup_d6d6136c53634b5989c091e7fe2d4039%20%3D%20L.popup%28%7BmaxWidth%3A%20%27300%27%7D%29%3B%0A%0A%20%20%20%20%20%20%20%20%20%20%20%20%0A%20%20%20%20%20%20%20%20%20%20%20%20%20%20%20%20var%20html_ef919e486d41459ba56ee187264ef3c0%20%3D%20%24%28%27%3Cdiv%20id%3D%22html_ef919e486d41459ba56ee187264ef3c0%22%20style%3D%22width%3A%20100.0%25%3B%20height%3A%20100.0%25%3B%22%3E31.26663338700007%2C%2034.777502627000054%3C/div%3E%27%29%5B0%5D%3B%0A%20%20%20%20%20%20%20%20%20%20%20%20%20%20%20%20popup_d6d6136c53634b5989c091e7fe2d4039.setContent%28html_ef919e486d41459ba56ee187264ef3c0%29%3B%0A%20%20%20%20%20%20%20%20%20%20%20%20%0A%0A%20%20%20%20%20%20%20%20%20%20%20%20circle_marker_de77f279b4704b3ca511d54c1e1964f4.bindPopup%28popup_d6d6136c53634b5989c091e7fe2d4039%29%3B%0A%0A%20%20%20%20%20%20%20%20%20%20%20%20%0A%20%20%20%20%20%20%20%20%0A%20%20%20%20%0A%20%20%20%20%20%20%20%20%20%20%20%20var%20circle_marker_a1b64c23515a4d0684ac5f4ac744fec2%20%3D%20L.circleMarker%28%0A%20%20%20%20%20%20%20%20%20%20%20%20%20%20%20%20%5B31.225105925000037%2C34.802902206000056%5D%2C%0A%20%20%20%20%20%20%20%20%20%20%20%20%20%20%20%20%7B%0A%20%20%22bubblingMouseEvents%22%3A%20true%2C%0A%20%20%22color%22%3A%20%22blue%22%2C%0A%20%20%22dashArray%22%3A%20null%2C%0A%20%20%22dashOffset%22%3A%20null%2C%0A%20%20%22fill%22%3A%20true%2C%0A%20%20%22fillColor%22%3A%20%22%233186cc%22%2C%0A%20%20%22fillOpacity%22%3A%200.7%2C%0A%20%20%22fillRule%22%3A%20%22evenodd%22%2C%0A%20%20%22lineCap%22%3A%20%22round%22%2C%0A%20%20%22lineJoin%22%3A%20%22round%22%2C%0A%20%20%22opacity%22%3A%201.0%2C%0A%20%20%22radius%22%3A%205%2C%0A%20%20%22stroke%22%3A%20true%2C%0A%20%20%22weight%22%3A%203%0A%7D%0A%20%20%20%20%20%20%20%20%20%20%20%20%20%20%20%20%29.addTo%28map_0c2de3061bd5447e888b7c06b49e0ed9%29%3B%0A%20%20%20%20%20%20%20%20%20%20%20%20%0A%20%20%20%20%0A%20%20%20%20%20%20%20%20%20%20%20%20var%20popup_cebca27bdaec4127b6b630d79ff0b559%20%3D%20L.popup%28%7BmaxWidth%3A%20%27300%27%7D%29%3B%0A%0A%20%20%20%20%20%20%20%20%20%20%20%20%0A%20%20%20%20%20%20%20%20%20%20%20%20%20%20%20%20var%20html_5ac5aa338ade41a8a4aec03df4e63d2f%20%3D%20%24%28%27%3Cdiv%20id%3D%22html_5ac5aa338ade41a8a4aec03df4e63d2f%22%20style%3D%22width%3A%20100.0%25%3B%20height%3A%20100.0%25%3B%22%3E31.225105925000037%2C%2034.802902206000056%3C/div%3E%27%29%5B0%5D%3B%0A%20%20%20%20%20%20%20%20%20%20%20%20%20%20%20%20popup_cebca27bdaec4127b6b630d79ff0b559.setContent%28html_5ac5aa338ade41a8a4aec03df4e63d2f%29%3B%0A%20%20%20%20%20%20%20%20%20%20%20%20%0A%0A%20%20%20%20%20%20%20%20%20%20%20%20circle_marker_a1b64c23515a4d0684ac5f4ac744fec2.bindPopup%28popup_cebca27bdaec4127b6b630d79ff0b559%29%3B%0A%0A%20%20%20%20%20%20%20%20%20%20%20%20%0A%20%20%20%20%20%20%20%20%0A%20%20%20%20%0A%20%20%20%20%20%20%20%20%20%20%20%20var%20circle_marker_7b920c4280dc4aed9ee7981eb8c39c00%20%3D%20L.circleMarker%28%0A%20%20%20%20%20%20%20%20%20%20%20%20%20%20%20%20%5B31.25134306500007%2C34.808245955000075%5D%2C%0A%20%20%20%20%20%20%20%20%20%20%20%20%20%20%20%20%7B%0A%20%20%22bubblingMouseEvents%22%3A%20true%2C%0A%20%20%22color%22%3A%20%22blue%22%2C%0A%20%20%22dashArray%22%3A%20null%2C%0A%20%20%22dashOffset%22%3A%20null%2C%0A%20%20%22fill%22%3A%20true%2C%0A%20%20%22fillColor%22%3A%20%22%233186cc%22%2C%0A%20%20%22fillOpacity%22%3A%200.7%2C%0A%20%20%22fillRule%22%3A%20%22evenodd%22%2C%0A%20%20%22lineCap%22%3A%20%22round%22%2C%0A%20%20%22lineJoin%22%3A%20%22round%22%2C%0A%20%20%22opacity%22%3A%201.0%2C%0A%20%20%22radius%22%3A%205%2C%0A%20%20%22stroke%22%3A%20true%2C%0A%20%20%22weight%22%3A%203%0A%7D%0A%20%20%20%20%20%20%20%20%20%20%20%20%20%20%20%20%29.addTo%28map_0c2de3061bd5447e888b7c06b49e0ed9%29%3B%0A%20%20%20%20%20%20%20%20%20%20%20%20%0A%20%20%20%20%0A%20%20%20%20%20%20%20%20%20%20%20%20var%20popup_329e893794474a90b625b68642e3b0e4%20%3D%20L.popup%28%7BmaxWidth%3A%20%27300%27%7D%29%3B%0A%0A%20%20%20%20%20%20%20%20%20%20%20%20%0A%20%20%20%20%20%20%20%20%20%20%20%20%20%20%20%20var%20html_f150b22a9b7a46d1a7357becca9bb310%20%3D%20%24%28%27%3Cdiv%20id%3D%22html_f150b22a9b7a46d1a7357becca9bb310%22%20style%3D%22width%3A%20100.0%25%3B%20height%3A%20100.0%25%3B%22%3E31.25134306500007%2C%2034.808245955000075%3C/div%3E%27%29%5B0%5D%3B%0A%20%20%20%20%20%20%20%20%20%20%20%20%20%20%20%20popup_329e893794474a90b625b68642e3b0e4.setContent%28html_f150b22a9b7a46d1a7357becca9bb310%29%3B%0A%20%20%20%20%20%20%20%20%20%20%20%20%0A%0A%20%20%20%20%20%20%20%20%20%20%20%20circle_marker_7b920c4280dc4aed9ee7981eb8c39c00.bindPopup%28popup_329e893794474a90b625b68642e3b0e4%29%3B%0A%0A%20%20%20%20%20%20%20%20%20%20%20%20%0A%20%20%20%20%20%20%20%20%0A%20%20%20%20%0A%20%20%20%20%20%20%20%20%20%20%20%20var%20circle_marker_e3f83e6813de45f28c1f6487b50ac27c%20%3D%20L.circleMarker%28%0A%20%20%20%20%20%20%20%20%20%20%20%20%20%20%20%20%5B31.24460084700007%2C34.81273640200004%5D%2C%0A%20%20%20%20%20%20%20%20%20%20%20%20%20%20%20%20%7B%0A%20%20%22bubblingMouseEvents%22%3A%20true%2C%0A%20%20%22color%22%3A%20%22blue%22%2C%0A%20%20%22dashArray%22%3A%20null%2C%0A%20%20%22dashOffset%22%3A%20null%2C%0A%20%20%22fill%22%3A%20true%2C%0A%20%20%22fillColor%22%3A%20%22%233186cc%22%2C%0A%20%20%22fillOpacity%22%3A%200.7%2C%0A%20%20%22fillRule%22%3A%20%22evenodd%22%2C%0A%20%20%22lineCap%22%3A%20%22round%22%2C%0A%20%20%22lineJoin%22%3A%20%22round%22%2C%0A%20%20%22opacity%22%3A%201.0%2C%0A%20%20%22radius%22%3A%205%2C%0A%20%20%22stroke%22%3A%20true%2C%0A%20%20%22weight%22%3A%203%0A%7D%0A%20%20%20%20%20%20%20%20%20%20%20%20%20%20%20%20%29.addTo%28map_0c2de3061bd5447e888b7c06b49e0ed9%29%3B%0A%20%20%20%20%20%20%20%20%20%20%20%20%0A%20%20%20%20%0A%20%20%20%20%20%20%20%20%20%20%20%20var%20popup_1cdb11427698401890699a0213111ec0%20%3D%20L.popup%28%7BmaxWidth%3A%20%27300%27%7D%29%3B%0A%0A%20%20%20%20%20%20%20%20%20%20%20%20%0A%20%20%20%20%20%20%20%20%20%20%20%20%20%20%20%20var%20html_f8a711cbffad43bb9e3c590c2716a538%20%3D%20%24%28%27%3Cdiv%20id%3D%22html_f8a711cbffad43bb9e3c590c2716a538%22%20style%3D%22width%3A%20100.0%25%3B%20height%3A%20100.0%25%3B%22%3E31.24460084700007%2C%2034.81273640200004%3C/div%3E%27%29%5B0%5D%3B%0A%20%20%20%20%20%20%20%20%20%20%20%20%20%20%20%20popup_1cdb11427698401890699a0213111ec0.setContent%28html_f8a711cbffad43bb9e3c590c2716a538%29%3B%0A%20%20%20%20%20%20%20%20%20%20%20%20%0A%0A%20%20%20%20%20%20%20%20%20%20%20%20circle_marker_e3f83e6813de45f28c1f6487b50ac27c.bindPopup%28popup_1cdb11427698401890699a0213111ec0%29%3B%0A%0A%20%20%20%20%20%20%20%20%20%20%20%20%0A%20%20%20%20%20%20%20%20%0A%20%20%20%20%0A%20%20%20%20%20%20%20%20%20%20%20%20var%20circle_marker_ee0bbb18d5d9427382bc2f7915e7c64c%20%3D%20L.circleMarker%28%0A%20%20%20%20%20%20%20%20%20%20%20%20%20%20%20%20%5B31.261187820000032%2C34.795048243000046%5D%2C%0A%20%20%20%20%20%20%20%20%20%20%20%20%20%20%20%20%7B%0A%20%20%22bubblingMouseEvents%22%3A%20true%2C%0A%20%20%22color%22%3A%20%22blue%22%2C%0A%20%20%22dashArray%22%3A%20null%2C%0A%20%20%22dashOffset%22%3A%20null%2C%0A%20%20%22fill%22%3A%20true%2C%0A%20%20%22fillColor%22%3A%20%22%233186cc%22%2C%0A%20%20%22fillOpacity%22%3A%200.7%2C%0A%20%20%22fillRule%22%3A%20%22evenodd%22%2C%0A%20%20%22lineCap%22%3A%20%22round%22%2C%0A%20%20%22lineJoin%22%3A%20%22round%22%2C%0A%20%20%22opacity%22%3A%201.0%2C%0A%20%20%22radius%22%3A%205%2C%0A%20%20%22stroke%22%3A%20true%2C%0A%20%20%22weight%22%3A%203%0A%7D%0A%20%20%20%20%20%20%20%20%20%20%20%20%20%20%20%20%29.addTo%28map_0c2de3061bd5447e888b7c06b49e0ed9%29%3B%0A%20%20%20%20%20%20%20%20%20%20%20%20%0A%20%20%20%20%0A%20%20%20%20%20%20%20%20%20%20%20%20var%20popup_8a7cb016822f4361830d8e9e1013a647%20%3D%20L.popup%28%7BmaxWidth%3A%20%27300%27%7D%29%3B%0A%0A%20%20%20%20%20%20%20%20%20%20%20%20%0A%20%20%20%20%20%20%20%20%20%20%20%20%20%20%20%20var%20html_5a081cba578149b28864c636ba71150e%20%3D%20%24%28%27%3Cdiv%20id%3D%22html_5a081cba578149b28864c636ba71150e%22%20style%3D%22width%3A%20100.0%25%3B%20height%3A%20100.0%25%3B%22%3E31.261187820000032%2C%2034.795048243000046%3C/div%3E%27%29%5B0%5D%3B%0A%20%20%20%20%20%20%20%20%20%20%20%20%20%20%20%20popup_8a7cb016822f4361830d8e9e1013a647.setContent%28html_5a081cba578149b28864c636ba71150e%29%3B%0A%20%20%20%20%20%20%20%20%20%20%20%20%0A%0A%20%20%20%20%20%20%20%20%20%20%20%20circle_marker_ee0bbb18d5d9427382bc2f7915e7c64c.bindPopup%28popup_8a7cb016822f4361830d8e9e1013a647%29%3B%0A%0A%20%20%20%20%20%20%20%20%20%20%20%20%0A%20%20%20%20%20%20%20%20%0A%20%20%20%20%0A%20%20%20%20%20%20%20%20%20%20%20%20var%20circle_marker_e8e3bbbc796a42378b136acbaaee7beb%20%3D%20L.circleMarker%28%0A%20%20%20%20%20%20%20%20%20%20%20%20%20%20%20%20%5B31.26102075200004%2C34.79507639700006%5D%2C%0A%20%20%20%20%20%20%20%20%20%20%20%20%20%20%20%20%7B%0A%20%20%22bubblingMouseEvents%22%3A%20true%2C%0A%20%20%22color%22%3A%20%22blue%22%2C%0A%20%20%22dashArray%22%3A%20null%2C%0A%20%20%22dashOffset%22%3A%20null%2C%0A%20%20%22fill%22%3A%20true%2C%0A%20%20%22fillColor%22%3A%20%22%233186cc%22%2C%0A%20%20%22fillOpacity%22%3A%200.7%2C%0A%20%20%22fillRule%22%3A%20%22evenodd%22%2C%0A%20%20%22lineCap%22%3A%20%22round%22%2C%0A%20%20%22lineJoin%22%3A%20%22round%22%2C%0A%20%20%22opacity%22%3A%201.0%2C%0A%20%20%22radius%22%3A%205%2C%0A%20%20%22stroke%22%3A%20true%2C%0A%20%20%22weight%22%3A%203%0A%7D%0A%20%20%20%20%20%20%20%20%20%20%20%20%20%20%20%20%29.addTo%28map_0c2de3061bd5447e888b7c06b49e0ed9%29%3B%0A%20%20%20%20%20%20%20%20%20%20%20%20%0A%20%20%20%20%0A%20%20%20%20%20%20%20%20%20%20%20%20var%20popup_961d99a31eff422b9ca6d77c699f2af4%20%3D%20L.popup%28%7BmaxWidth%3A%20%27300%27%7D%29%3B%0A%0A%20%20%20%20%20%20%20%20%20%20%20%20%0A%20%20%20%20%20%20%20%20%20%20%20%20%20%20%20%20var%20html_a9096c295716485c916db5f8019a3cc3%20%3D%20%24%28%27%3Cdiv%20id%3D%22html_a9096c295716485c916db5f8019a3cc3%22%20style%3D%22width%3A%20100.0%25%3B%20height%3A%20100.0%25%3B%22%3E31.26102075200004%2C%2034.79507639700006%3C/div%3E%27%29%5B0%5D%3B%0A%20%20%20%20%20%20%20%20%20%20%20%20%20%20%20%20popup_961d99a31eff422b9ca6d77c699f2af4.setContent%28html_a9096c295716485c916db5f8019a3cc3%29%3B%0A%20%20%20%20%20%20%20%20%20%20%20%20%0A%0A%20%20%20%20%20%20%20%20%20%20%20%20circle_marker_e8e3bbbc796a42378b136acbaaee7beb.bindPopup%28popup_961d99a31eff422b9ca6d77c699f2af4%29%3B%0A%0A%20%20%20%20%20%20%20%20%20%20%20%20%0A%20%20%20%20%20%20%20%20%0A%20%20%20%20%0A%20%20%20%20%20%20%20%20%20%20%20%20var%20circle_marker_c40dd9ebb81a4e7c96685ac7375c1926%20%3D%20L.circleMarker%28%0A%20%20%20%20%20%20%20%20%20%20%20%20%20%20%20%20%5B31.24567327000005%2C34.78226689400003%5D%2C%0A%20%20%20%20%20%20%20%20%20%20%20%20%20%20%20%20%7B%0A%20%20%22bubblingMouseEvents%22%3A%20true%2C%0A%20%20%22color%22%3A%20%22blue%22%2C%0A%20%20%22dashArray%22%3A%20null%2C%0A%20%20%22dashOffset%22%3A%20null%2C%0A%20%20%22fill%22%3A%20true%2C%0A%20%20%22fillColor%22%3A%20%22%233186cc%22%2C%0A%20%20%22fillOpacity%22%3A%200.7%2C%0A%20%20%22fillRule%22%3A%20%22evenodd%22%2C%0A%20%20%22lineCap%22%3A%20%22round%22%2C%0A%20%20%22lineJoin%22%3A%20%22round%22%2C%0A%20%20%22opacity%22%3A%201.0%2C%0A%20%20%22radius%22%3A%205%2C%0A%20%20%22stroke%22%3A%20true%2C%0A%20%20%22weight%22%3A%203%0A%7D%0A%20%20%20%20%20%20%20%20%20%20%20%20%20%20%20%20%29.addTo%28map_0c2de3061bd5447e888b7c06b49e0ed9%29%3B%0A%20%20%20%20%20%20%20%20%20%20%20%20%0A%20%20%20%20%0A%20%20%20%20%20%20%20%20%20%20%20%20var%20popup_685f901efa234ed8b4a62f260d8ca28c%20%3D%20L.popup%28%7BmaxWidth%3A%20%27300%27%7D%29%3B%0A%0A%20%20%20%20%20%20%20%20%20%20%20%20%0A%20%20%20%20%20%20%20%20%20%20%20%20%20%20%20%20var%20html_22ec2c49e44644f2bd28c8395024f97e%20%3D%20%24%28%27%3Cdiv%20id%3D%22html_22ec2c49e44644f2bd28c8395024f97e%22%20style%3D%22width%3A%20100.0%25%3B%20height%3A%20100.0%25%3B%22%3E31.24567327000005%2C%2034.78226689400003%3C/div%3E%27%29%5B0%5D%3B%0A%20%20%20%20%20%20%20%20%20%20%20%20%20%20%20%20popup_685f901efa234ed8b4a62f260d8ca28c.setContent%28html_22ec2c49e44644f2bd28c8395024f97e%29%3B%0A%20%20%20%20%20%20%20%20%20%20%20%20%0A%0A%20%20%20%20%20%20%20%20%20%20%20%20circle_marker_c40dd9ebb81a4e7c96685ac7375c1926.bindPopup%28popup_685f901efa234ed8b4a62f260d8ca28c%29%3B%0A%0A%20%20%20%20%20%20%20%20%20%20%20%20%0A%20%20%20%20%20%20%20%20%0A%20%20%20%20%0A%20%20%20%20%20%20%20%20%20%20%20%20var%20circle_marker_b7f46ecadb9d4373aebf6911abc5dcbb%20%3D%20L.circleMarker%28%0A%20%20%20%20%20%20%20%20%20%20%20%20%20%20%20%20%5B31.247645666000036%2C34.79869774600007%5D%2C%0A%20%20%20%20%20%20%20%20%20%20%20%20%20%20%20%20%7B%0A%20%20%22bubblingMouseEvents%22%3A%20true%2C%0A%20%20%22color%22%3A%20%22blue%22%2C%0A%20%20%22dashArray%22%3A%20null%2C%0A%20%20%22dashOffset%22%3A%20null%2C%0A%20%20%22fill%22%3A%20true%2C%0A%20%20%22fillColor%22%3A%20%22%233186cc%22%2C%0A%20%20%22fillOpacity%22%3A%200.7%2C%0A%20%20%22fillRule%22%3A%20%22evenodd%22%2C%0A%20%20%22lineCap%22%3A%20%22round%22%2C%0A%20%20%22lineJoin%22%3A%20%22round%22%2C%0A%20%20%22opacity%22%3A%201.0%2C%0A%20%20%22radius%22%3A%205%2C%0A%20%20%22stroke%22%3A%20true%2C%0A%20%20%22weight%22%3A%203%0A%7D%0A%20%20%20%20%20%20%20%20%20%20%20%20%20%20%20%20%29.addTo%28map_0c2de3061bd5447e888b7c06b49e0ed9%29%3B%0A%20%20%20%20%20%20%20%20%20%20%20%20%0A%20%20%20%20%0A%20%20%20%20%20%20%20%20%20%20%20%20var%20popup_9352703aa3db40568925dfbdea79404b%20%3D%20L.popup%28%7BmaxWidth%3A%20%27300%27%7D%29%3B%0A%0A%20%20%20%20%20%20%20%20%20%20%20%20%0A%20%20%20%20%20%20%20%20%20%20%20%20%20%20%20%20var%20html_0afa1f3178d548a7928bcaca43ef8ee0%20%3D%20%24%28%27%3Cdiv%20id%3D%22html_0afa1f3178d548a7928bcaca43ef8ee0%22%20style%3D%22width%3A%20100.0%25%3B%20height%3A%20100.0%25%3B%22%3E31.247645666000036%2C%2034.79869774600007%3C/div%3E%27%29%5B0%5D%3B%0A%20%20%20%20%20%20%20%20%20%20%20%20%20%20%20%20popup_9352703aa3db40568925dfbdea79404b.setContent%28html_0afa1f3178d548a7928bcaca43ef8ee0%29%3B%0A%20%20%20%20%20%20%20%20%20%20%20%20%0A%0A%20%20%20%20%20%20%20%20%20%20%20%20circle_marker_b7f46ecadb9d4373aebf6911abc5dcbb.bindPopup%28popup_9352703aa3db40568925dfbdea79404b%29%3B%0A%0A%20%20%20%20%20%20%20%20%20%20%20%20%0A%20%20%20%20%20%20%20%20%0A%20%20%20%20%0A%20%20%20%20%20%20%20%20%20%20%20%20var%20circle_marker_2eb38c0783624cd19a53856a1d86e138%20%3D%20L.circleMarker%28%0A%20%20%20%20%20%20%20%20%20%20%20%20%20%20%20%20%5B31.23501428700007%2C34.800342644000075%5D%2C%0A%20%20%20%20%20%20%20%20%20%20%20%20%20%20%20%20%7B%0A%20%20%22bubblingMouseEvents%22%3A%20true%2C%0A%20%20%22color%22%3A%20%22blue%22%2C%0A%20%20%22dashArray%22%3A%20null%2C%0A%20%20%22dashOffset%22%3A%20null%2C%0A%20%20%22fill%22%3A%20true%2C%0A%20%20%22fillColor%22%3A%20%22%233186cc%22%2C%0A%20%20%22fillOpacity%22%3A%200.7%2C%0A%20%20%22fillRule%22%3A%20%22evenodd%22%2C%0A%20%20%22lineCap%22%3A%20%22round%22%2C%0A%20%20%22lineJoin%22%3A%20%22round%22%2C%0A%20%20%22opacity%22%3A%201.0%2C%0A%20%20%22radius%22%3A%205%2C%0A%20%20%22stroke%22%3A%20true%2C%0A%20%20%22weight%22%3A%203%0A%7D%0A%20%20%20%20%20%20%20%20%20%20%20%20%20%20%20%20%29.addTo%28map_0c2de3061bd5447e888b7c06b49e0ed9%29%3B%0A%20%20%20%20%20%20%20%20%20%20%20%20%0A%20%20%20%20%0A%20%20%20%20%20%20%20%20%20%20%20%20var%20popup_51f3f02c7de5490fb34c99858d143cde%20%3D%20L.popup%28%7BmaxWidth%3A%20%27300%27%7D%29%3B%0A%0A%20%20%20%20%20%20%20%20%20%20%20%20%0A%20%20%20%20%20%20%20%20%20%20%20%20%20%20%20%20var%20html_43694274b8b74a0d9db4bd05a2e075ce%20%3D%20%24%28%27%3Cdiv%20id%3D%22html_43694274b8b74a0d9db4bd05a2e075ce%22%20style%3D%22width%3A%20100.0%25%3B%20height%3A%20100.0%25%3B%22%3E31.23501428700007%2C%2034.800342644000075%3C/div%3E%27%29%5B0%5D%3B%0A%20%20%20%20%20%20%20%20%20%20%20%20%20%20%20%20popup_51f3f02c7de5490fb34c99858d143cde.setContent%28html_43694274b8b74a0d9db4bd05a2e075ce%29%3B%0A%20%20%20%20%20%20%20%20%20%20%20%20%0A%0A%20%20%20%20%20%20%20%20%20%20%20%20circle_marker_2eb38c0783624cd19a53856a1d86e138.bindPopup%28popup_51f3f02c7de5490fb34c99858d143cde%29%3B%0A%0A%20%20%20%20%20%20%20%20%20%20%20%20%0A%20%20%20%20%20%20%20%20%0A%3C/script%3E onload=\"this.contentDocument.open();this.contentDocument.write(    decodeURIComponent(this.getAttribute('data-html')));this.contentDocument.close();\" allowfullscreen webkitallowfullscreen mozallowfullscreen></iframe></div></div>"
      ],
      "text/plain": [
       "<folium.folium.Map at 0x1fe2a3a7550>"
      ]
     },
     "execution_count": 1120,
     "metadata": {},
     "output_type": "execute_result"
    }
   ],
   "source": [
    "map_comp = folium.Map(location=[latitude, longitude], zoom_start=12)\n",
    "for Latitude, Longitude in zip(df_comb['Latitude'], df_comb['Longitude']):\n",
    "    label = '{}, {}'.format(Latitude, Longitude)\n",
    "    label = folium.Popup(label, parse_html=True)\n",
    "    folium.CircleMarker(\n",
    "        [Latitude, Longitude],\n",
    "        radius=5,\n",
    "        popup=label,\n",
    "        color='blue',\n",
    "        fill=True,\n",
    "        fill_color='#3186cc',\n",
    "        fill_opacity=0.7,\n",
    "        parse_html=False).add_to(map_comp)\n",
    "map_comp"
   ]
  },
  {
   "cell_type": "markdown",
   "metadata": {},
   "source": [
    "### Report"
   ]
  },
  {
   "cell_type": "markdown",
   "metadata": {},
   "source": [
    "As we can see by the spread of venues and competitors, the afrementioned cluster of venues is located in proximity to multiple competitors.\n",
    "\n",
    "In contrast, Venue4 is isolated in the south-west of the city, with no other competitors around, which qualifies it as the most suitable location for Mrs. Name's purposes."
   ]
  },
  {
   "cell_type": "code",
   "execution_count": null,
   "metadata": {},
   "outputs": [],
   "source": []
  }
 ],
 "metadata": {
  "kernelspec": {
   "display_name": "Python 3",
   "language": "python",
   "name": "python3"
  },
  "language_info": {
   "codemirror_mode": {
    "name": "ipython",
    "version": 3
   },
   "file_extension": ".py",
   "mimetype": "text/x-python",
   "name": "python",
   "nbconvert_exporter": "python",
   "pygments_lexer": "ipython3",
   "version": "3.8.5"
  }
 },
 "nbformat": 4,
 "nbformat_minor": 4
}
